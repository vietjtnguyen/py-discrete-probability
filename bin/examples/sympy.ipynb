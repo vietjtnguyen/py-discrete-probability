{
 "metadata": {
  "name": "sympy"
 },
 "nbformat": 3,
 "nbformat_minor": 0,
 "worksheets": [
  {
   "cells": [
    {
     "cell_type": "code",
     "collapsed": false,
     "input": [
      "from discrete_probability import *"
     ],
     "language": "python",
     "metadata": {},
     "outputs": [],
     "prompt_number": 1
    },
    {
     "cell_type": "markdown",
     "metadata": {},
     "source": [
      "First we want to call `init_printing` in `sympy` to get SymPy to output nice MathJax LaTeX."
     ]
    },
    {
     "cell_type": "code",
     "collapsed": false,
     "input": [
      "import sympy\n",
      "sympy.init_printing()"
     ],
     "language": "python",
     "metadata": {},
     "outputs": [],
     "prompt_number": 2
    },
    {
     "cell_type": "markdown",
     "metadata": {},
     "source": [
      "Now we'll define our simple example with data to use later."
     ]
    },
    {
     "cell_type": "code",
     "collapsed": false,
     "input": [
      "E, H, S = variables = map(Variable, 'EHS')\n",
      "e, e_ = E\n",
      "h, h_ = H\n",
      "s, s_ = S\n",
      "data_header = [H, S, E]\n",
      "data_samples = [\n",
      "    [True, False, True],\n",
      "    [True, False, True],\n",
      "    [False, True, False],\n",
      "    [False, False, True],\n",
      "    [True, False, False],\n",
      "    [True, False, True],\n",
      "    [False, False, False],\n",
      "    [True, False, True],\n",
      "    [True, False, True],\n",
      "    [False, False, True],\n",
      "    [True, False, True],\n",
      "    [True, True, True],\n",
      "    [True, False, True],\n",
      "    [True, True, True],\n",
      "    [True, False, True],\n",
      "    [True, False, True]]\n",
      "data_assignments = data_to_assignments(data_header, data_samples)"
     ],
     "language": "python",
     "metadata": {},
     "outputs": [],
     "prompt_number": 3
    },
    {
     "cell_type": "markdown",
     "metadata": {},
     "source": [
      "A quick example of using SymPy with pyDiscreteProbability is enforcing simplified fractions for probabilities. For example, here is the table from the basic example."
     ]
    },
    {
     "cell_type": "code",
     "collapsed": false,
     "input": [
      "P = Table(variables)\n",
      "P.learn_from_complete_data(data_assignments)\n",
      "P"
     ],
     "language": "python",
     "metadata": {},
     "outputs": [
      {
       "output_type": "pyout",
       "prompt_number": 4,
       "text": [
        "H     | S     | E     | P(H,S,E)\n",
        "---------------------------------\n",
        "True  | True  | True  | 0.125\n",
        "True  | True  | False | 0.0\n",
        "True  | False | True  | 0.5625\n",
        "True  | False | False | 0.0625\n",
        "False | True  | True  | 0.0\n",
        "False | True  | False | 0.0625\n",
        "False | False | True  | 0.125\n",
        "False | False | False | 0.0625"
       ]
      }
     ],
     "prompt_number": 4
    },
    {
     "cell_type": "markdown",
     "metadata": {},
     "source": [
      "By using the SymPy number system we can let SymPy handle and preserve the original fractions instead of relying on floating point numbers."
     ]
    },
    {
     "cell_type": "code",
     "collapsed": false,
     "input": [
      "P = Table(variables, number_system=sympy_number_system)\n",
      "P.learn_from_complete_data(data_assignments)\n",
      "P"
     ],
     "language": "python",
     "metadata": {},
     "outputs": [
      {
       "output_type": "pyout",
       "prompt_number": 5,
       "text": [
        "H     | S     | E     | P(H,S,E)\n",
        "---------------------------------\n",
        "True  | True  | True  | 1/8\n",
        "True  | True  | False | 0\n",
        "True  | False | True  | 9/16\n",
        "True  | False | False | 1/16\n",
        "False | True  | True  | 0\n",
        "False | True  | False | 1/16\n",
        "False | False | True  | 1/8\n",
        "False | False | False | 1/16"
       ]
      }
     ],
     "prompt_number": 5
    },
    {
     "cell_type": "markdown",
     "metadata": {},
     "source": [
      "The number system is preserved through operations as well."
     ]
    },
    {
     "cell_type": "code",
     "collapsed": false,
     "input": [
      "P(E,H)"
     ],
     "language": "python",
     "metadata": {},
     "outputs": [
      {
       "output_type": "pyout",
       "prompt_number": 6,
       "text": [
        "H     | E     | P(H,E)\n",
        "-----------------------\n",
        "True  | True  | 11/16\n",
        "True  | False | 1/16\n",
        "False | True  | 1/8\n",
        "False | False | 1/8"
       ]
      }
     ],
     "prompt_number": 6
    },
    {
     "cell_type": "code",
     "collapsed": false,
     "input": [
      "P(E|S,H)"
     ],
     "language": "python",
     "metadata": {},
     "outputs": [
      {
       "output_type": "pyout",
       "prompt_number": 7,
       "text": [
        "H     | S     || E     | P(E|H,S)\n",
        "----------------------------------\n",
        "True  | True  || True  | 1\n",
        "True  | True  || False | 0\n",
        "True  | False || True  | 9/10\n",
        "True  | False || False | 1/10\n",
        "False | True  || True  | 0\n",
        "False | True  || False | 1\n",
        "False | False || True  | 2/3\n",
        "False | False || False | 1/3"
       ]
      }
     ],
     "prompt_number": 7
    },
    {
     "cell_type": "markdown",
     "metadata": {},
     "source": [
      "We can also use SymPy to store expressions in our probability table. First we'll define the symbols that will form our probability expressions."
     ]
    },
    {
     "cell_type": "code",
     "collapsed": false,
     "input": [
      "x, y, z = sympy.symbols('x y z')"
     ],
     "language": "python",
     "metadata": {},
     "outputs": [],
     "prompt_number": 8
    },
    {
     "cell_type": "markdown",
     "metadata": {},
     "source": [
      "Now ee'll create a simple joint marginal `Table`. We need to set it to ignore validity or else it will raise an error because the `Table` is not \"valid\" since the probabilities do not sum to one. We'll also tell it to use the SymPy number system. By default `Table` uses a `float` number system."
     ]
    },
    {
     "cell_type": "code",
     "collapsed": false,
     "input": [
      "A, B, C = variables = map(Variable, 'ABC')\n",
      "a, a_ = A\n",
      "b, b_ = B\n",
      "c, c_ = C\n",
      "P = Table(variables, ignore_validity=True, number_system=sympy_number_system)"
     ],
     "language": "python",
     "metadata": {},
     "outputs": [],
     "prompt_number": 9
    },
    {
     "cell_type": "markdown",
     "metadata": {},
     "source": [
      "Now we'll define our probability table some simple expressions as a silly demonstration of using SymPy with the table."
     ]
    },
    {
     "cell_type": "code",
     "collapsed": false,
     "input": [
      "P[a , b , c ] = 0.11\n",
      "P[a , b , c_] = 0.05+z\n",
      "P[a , b_, c ] = 0.07\n",
      "P[a , b_, c_] = 0.21\n",
      "P[a_, b , c ] = 0.32\n",
      "P[a_, b , c_] = 0.04\n",
      "P[a_, b_, c ] = sympy.sqrt(x)\n",
      "P[a_, b_, c_] = y\n",
      "P"
     ],
     "language": "python",
     "metadata": {},
     "outputs": [
      {
       "output_type": "pyout",
       "prompt_number": 10,
       "text": [
        "A     | C     | B     | P(A,C,B)\n",
        "---------------------------------\n",
        "True  | True  | True  | 0.11\n",
        "True  | True  | False | 0.07\n",
        "True  | False | True  | z + 0.05\n",
        "True  | False | False | 0.21\n",
        "False | True  | True  | 0.32\n",
        "False | True  | False | sqrt(x)\n",
        "False | False | True  | 0.04\n",
        "False | False | False | y"
       ]
      }
     ],
     "prompt_number": 10
    },
    {
     "cell_type": "markdown",
     "metadata": {},
     "source": [
      "Notice that the table output preserves the expressions thanks to SymPy. Now we'll define some constraints so we can demonstrate SymPy's solver. The following two constraints are simply to fully define the system."
     ]
    },
    {
     "cell_type": "code",
     "collapsed": false,
     "input": [
      "constraint_one = sympy.Eq(P(a, b), sympy.S('0.15'))\n",
      "constraint_one"
     ],
     "language": "python",
     "metadata": {},
     "outputs": [
      {
       "latex": [
        "$$\\frac{z + 0.16}{\\sqrt{x} + y + z + 0.8} = 0.15$$"
       ],
       "output_type": "pyout",
       "png": "[encoded data removed]",
       "prompt_number": 11,
       "text": [
        "      z + 0.16            \n",
        "\u2500\u2500\u2500\u2500\u2500\u2500\u2500\u2500\u2500\u2500\u2500\u2500\u2500\u2500\u2500\u2500\u2500\u2500\u2500 = 0.15\n",
        "  ___                     \n",
        "\u2572\u2571 x  + y + z + 0.8       "
       ]
      }
     ],
     "prompt_number": 11
    },
    {
     "cell_type": "code",
     "collapsed": false,
     "input": [
      "constraint_two = sympy.Eq(x, sympy.S('2*y'))\n",
      "constraint_two"
     ],
     "language": "python",
     "metadata": {},
     "outputs": [
      {
       "latex": [
        "$$x = 2 y$$"
       ],
       "output_type": "pyout",
       "png": "[encoded data removed]",
       "prompt_number": 12,
       "text": [
        "x = 2\u22c5y"
       ]
      }
     ],
     "prompt_number": 12
    },
    {
     "cell_type": "markdown",
     "metadata": {},
     "source": [
      "This constraint below, however, is fundamental. It is an expression of the second fundamental axiom of probability which states that the sum of probabilities of all possible world instantiations must be equal to one."
     ]
    },
    {
     "cell_type": "code",
     "collapsed": false,
     "input": [
      "second_axiom = sympy.Eq(P.total_probability(), sympy.S('1'))\n",
      "second_axiom"
     ],
     "language": "python",
     "metadata": {},
     "outputs": [
      {
       "latex": [
        "$$\\sqrt{x} + y + z + 0.8 = 1$$"
       ],
       "output_type": "pyout",
       "png": "[encoded data removed]",
       "prompt_number": 13,
       "text": [
        "  ___                  \n",
        "\u2572\u2571 x  + y + z + 0.8 = 1"
       ]
      }
     ],
     "prompt_number": 13
    },
    {
     "cell_type": "markdown",
     "metadata": {},
     "source": [
      "Now we'll use SymPy's solver to find appropriate values for $x$ and $y$. I will admit that I couldn't get it to behave with the first fundamental axiom of probability which requires that the individual world probabilites be greater than or equal to zero. Instead the example is contrived to return positive solutions."
     ]
    },
    {
     "cell_type": "code",
     "collapsed": false,
     "input": [
      "soln = sympy.solve([second_axiom, constraint_one, constraint_two])[0]\n",
      "soln"
     ],
     "language": "python",
     "metadata": {},
     "outputs": [
      {
       "latex": [
        "$$\\begin{Bmatrix}x : 0.036724942437403, & y : 0.0183624712187015, & z : -0.01\\end{Bmatrix}$$"
       ],
       "output_type": "pyout",
       "png": "[encoded data removed]",
       "prompt_number": 14,
       "text": [
        "{x: 0.036724942437403, y: 0.0183624712187015, z: -0.01}"
       ]
      }
     ],
     "prompt_number": 14
    },
    {
     "cell_type": "markdown",
     "metadata": {},
     "source": [
      "To demonstrate the validity of the solution we'll redefine the table with it. The `normalize_number_system` method ensures that the number types all match the table's number system. This means it will convert the Python floats to SymPy floats."
     ]
    },
    {
     "cell_type": "code",
     "collapsed": false,
     "input": [
      "P[a , b , c ] = 0.11\n",
      "P[a , b , c_] = 0.05+soln[z]\n",
      "P[a , b_, c ] = 0.07\n",
      "P[a , b_, c_] = 0.21\n",
      "P[a_, b , c ] = 0.32\n",
      "P[a_, b , c_] = 0.04\n",
      "P[a_, b_, c ] = sympy.sqrt(soln[x])\n",
      "P[a_, b_, c_] = soln[y]\n",
      "P.normalize_number_system()\n",
      "print(P)"
     ],
     "language": "python",
     "metadata": {},
     "outputs": [
      {
       "output_type": "stream",
       "stream": "stdout",
       "text": [
        "A     | C     | B     | P(A,C,B)\n",
        "---------------------------------\n",
        "True  | True  | True  | 0.110000000000000\n",
        "True  | True  | False | 0.0700000000000000\n",
        "True  | False | True  | 0.0400000000000000\n",
        "True  | False | False | 0.210000000000000\n",
        "False | True  | True  | 0.320000000000000\n",
        "False | True  | False | 0.191637528781298\n",
        "False | False | True  | 0.0400000000000000\n",
        "False | False | False | 0.0183624712187015\n"
       ]
      }
     ],
     "prompt_number": 15
    },
    {
     "cell_type": "markdown",
     "metadata": {},
     "source": [
      "Now we can check that the solution satisfies the second axiom of probability."
     ]
    },
    {
     "cell_type": "code",
     "collapsed": false,
     "input": [
      "print(P.total_probability())\n",
      "print(P.is_valid)"
     ],
     "language": "python",
     "metadata": {},
     "outputs": [
      {
       "output_type": "stream",
       "stream": "stdout",
       "text": [
        "1.00000000000000\n",
        "True\n"
       ]
      }
     ],
     "prompt_number": 16
    },
    {
     "cell_type": "markdown",
     "metadata": {},
     "source": [
      "* [https://github.com/vietjtnguyen/py-discrete-probability](https://github.com/vietjtnguyen/py-discrete-probability)\n",
      "* [https://pypi.python.org/pypi/pyDiscreteProbability](https://pypi.python.org/pypi/pyDiscreteProbability)"
     ]
    }
   ],
   "metadata": {}
  }
 ]
}