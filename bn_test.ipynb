{
 "metadata": {
  "name": "bn_test"
 },
 "nbformat": 3,
 "nbformat_minor": 0,
 "worksheets": [
  {
   "cells": [
    {
     "cell_type": "code",
     "collapsed": false,
     "input": [
      "from probability import *"
     ],
     "language": "python",
     "metadata": {},
     "outputs": [],
     "prompt_number": 2
    },
    {
     "cell_type": "markdown",
     "metadata": {},
     "source": [
      "Let's start with a simple three variable Bayesian network. First we need to define our variables."
     ]
    },
    {
     "cell_type": "code",
     "collapsed": false,
     "input": [
      "E, H, S = variables = map(Variable, 'EHS')\n",
      "# equivalent to E, H, S = variables = Variable('E'), ..."
     ],
     "language": "python",
     "metadata": {},
     "outputs": [],
     "prompt_number": 6
    },
    {
     "cell_type": "markdown",
     "metadata": {},
     "source": [
      "By default the values a variable can take are `True` and `False`."
     ]
    },
    {
     "cell_type": "code",
     "collapsed": false,
     "input": [
      "print(E)\n",
      "print(E.values)"
     ],
     "language": "python",
     "metadata": {},
     "outputs": [
      {
       "output_type": "stream",
       "stream": "stdout",
       "text": [
        "E\n",
        "(True, False)\n"
       ]
      }
     ],
     "prompt_number": 9
    },
    {
     "cell_type": "markdown",
     "metadata": {},
     "source": [
      "An `Assignment` represents a variable taking on one of its values and can be made using the `<<` operator."
     ]
    },
    {
     "cell_type": "code",
     "collapsed": false,
     "input": [
      "e = E << True\n",
      "print(e)"
     ],
     "language": "python",
     "metadata": {},
     "outputs": [
      {
       "output_type": "stream",
       "stream": "stdout",
       "text": [
        "E=True\n"
       ]
      }
     ],
     "prompt_number": 10
    },
    {
     "cell_type": "markdown",
     "metadata": {},
     "source": [
      "We can get all of the assignments for a variable using `get_assignments()` which returns all of the assignments as an unpackable list."
     ]
    },
    {
     "cell_type": "code",
     "collapsed": false,
     "input": [
      "e, e_ = E.get_assignments()\n",
      "h, h_ = H.get_assignments()\n",
      "s, s_ = S.get_assignments()\n",
      "print(h)\n",
      "print(s_)"
     ],
     "language": "python",
     "metadata": {},
     "outputs": [
      {
       "output_type": "stream",
       "stream": "stdout",
       "text": [
        "H=True\n",
        "S=False\n"
       ]
      }
     ],
     "prompt_number": 12
    },
    {
     "cell_type": "markdown",
     "metadata": {},
     "source": [
      "Now we'll define a small data set over these variables that we can use to learn a parameterization for our network."
     ]
    },
    {
     "cell_type": "code",
     "collapsed": false,
     "input": [
      "data_header = [H, S, E]\n",
      "data_samples = [\n",
      "    [True, False, True],\n",
      "    [True, False, True],\n",
      "    [False, True, False],\n",
      "    [False, False, True],\n",
      "    [True, False, False],\n",
      "    [True, False, True],\n",
      "    [False, False, False],\n",
      "    [True, False, True],\n",
      "    [True, False, True],\n",
      "    [False, False, True],\n",
      "    [True, False, True],\n",
      "    [True, True, True],\n",
      "    [True, False, True],\n",
      "    [True, True, True],\n",
      "    [True, False, True],\n",
      "    [True, False, True]]"
     ],
     "language": "python",
     "metadata": {},
     "outputs": [],
     "prompt_number": 16
    },
    {
     "cell_type": "markdown",
     "metadata": {},
     "source": [
      "Before creating our Bayesian network let's represent this data using a `JointTable`."
     ]
    },
    {
     "cell_type": "code",
     "collapsed": false,
     "input": [
      "P = JointTable(variables)\n",
      "P.learn_from_complete_data(data_header, data_samples)"
     ],
     "language": "python",
     "metadata": {},
     "outputs": [
      {
       "output_type": "pyout",
       "prompt_number": 17,
       "text": [
        "E     | S     | H     | P(E,S,H)\n",
        "---------------------------------\n",
        "True  | True  | True  | 0.125\n",
        "True  | True  | False | 0.0\n",
        "True  | False | True  | 0.5625\n",
        "True  | False | False | 0.125\n",
        "False | True  | True  | 0.0\n",
        "False | True  | False | 0.0625\n",
        "False | False | True  | 0.0625\n",
        "False | False | False | 0.0625"
       ]
      }
     ],
     "prompt_number": 17
    },
    {
     "cell_type": "markdown",
     "metadata": {},
     "source": [
      "`JointTable`s provide methods for marginalization (`marginalize_over`, `marginalize_out`) and conditioning (`condition`, `condition_on`)."
     ]
    },
    {
     "cell_type": "code",
     "collapsed": false,
     "input": [
      "print(P.marginalize_over([E, S]))\n",
      "print(P.marginalize_out([E, S]))\n",
      "print(P.condition_on([H]))\n",
      "print(P.condition([E], [H]))"
     ],
     "language": "python",
     "metadata": {},
     "outputs": [
      {
       "ename": "TypeError",
       "evalue": "unsupported operand type(s) for +: 'instance' and 'str'",
       "output_type": "pyerr",
       "traceback": [
        "\u001b[0;31m---------------------------------------------------------------------------\u001b[0m\n\u001b[0;31mTypeError\u001b[0m                                 Traceback (most recent call last)",
        "\u001b[0;32m<ipython-input-19-cf64a6f273ad>\u001b[0m in \u001b[0;36m<module>\u001b[0;34m()\u001b[0m\n\u001b[0;32m----> 1\u001b[0;31m \u001b[0;32mprint\u001b[0m\u001b[0;34m(\u001b[0m\u001b[0mP\u001b[0m\u001b[0;34m.\u001b[0m\u001b[0mmarginalize_over\u001b[0m\u001b[0;34m(\u001b[0m\u001b[0;34m[\u001b[0m\u001b[0mE\u001b[0m\u001b[0;34m,\u001b[0m \u001b[0mS\u001b[0m\u001b[0;34m]\u001b[0m\u001b[0;34m)\u001b[0m\u001b[0;34m+\u001b[0m\u001b[0;34m'\\n'\u001b[0m\u001b[0;34m)\u001b[0m\u001b[0;34m\u001b[0m\u001b[0m\n\u001b[0m\u001b[1;32m      2\u001b[0m \u001b[0;32mprint\u001b[0m\u001b[0;34m(\u001b[0m\u001b[0mP\u001b[0m\u001b[0;34m.\u001b[0m\u001b[0mmarginalize_out\u001b[0m\u001b[0;34m(\u001b[0m\u001b[0;34m[\u001b[0m\u001b[0mE\u001b[0m\u001b[0;34m,\u001b[0m \u001b[0mS\u001b[0m\u001b[0;34m]\u001b[0m\u001b[0;34m)\u001b[0m\u001b[0;34m+\u001b[0m\u001b[0;34m'\\n'\u001b[0m\u001b[0;34m)\u001b[0m\u001b[0;34m\u001b[0m\u001b[0m\n\u001b[1;32m      3\u001b[0m \u001b[0;32mprint\u001b[0m\u001b[0;34m(\u001b[0m\u001b[0mP\u001b[0m\u001b[0;34m.\u001b[0m\u001b[0mcondition_on\u001b[0m\u001b[0;34m(\u001b[0m\u001b[0;34m[\u001b[0m\u001b[0mH\u001b[0m\u001b[0;34m]\u001b[0m\u001b[0;34m)\u001b[0m\u001b[0;34m+\u001b[0m\u001b[0;34m'\\n'\u001b[0m\u001b[0;34m)\u001b[0m\u001b[0;34m\u001b[0m\u001b[0m\n\u001b[1;32m      4\u001b[0m \u001b[0;32mprint\u001b[0m\u001b[0;34m(\u001b[0m\u001b[0mP\u001b[0m\u001b[0;34m.\u001b[0m\u001b[0mcondition\u001b[0m\u001b[0;34m(\u001b[0m\u001b[0;34m[\u001b[0m\u001b[0mE\u001b[0m\u001b[0;34m]\u001b[0m\u001b[0;34m,\u001b[0m \u001b[0;34m[\u001b[0m\u001b[0mH\u001b[0m\u001b[0;34m]\u001b[0m\u001b[0;34m)\u001b[0m\u001b[0;34m)\u001b[0m\u001b[0;34m\u001b[0m\u001b[0m\n",
        "\u001b[0;31mTypeError\u001b[0m: unsupported operand type(s) for +: 'instance' and 'str'"
       ]
      }
     ],
     "prompt_number": 19
    },
    {
     "cell_type": "code",
     "collapsed": false,
     "input": [],
     "language": "python",
     "metadata": {},
     "outputs": []
    }
   ],
   "metadata": {}
  }
 ]
}