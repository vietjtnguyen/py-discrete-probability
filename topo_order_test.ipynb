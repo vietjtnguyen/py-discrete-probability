{
 "metadata": {
  "name": "topo_order_test"
 },
 "nbformat": 3,
 "nbformat_minor": 0,
 "worksheets": [
  {
   "cells": [
    {
     "cell_type": "code",
     "collapsed": false,
     "input": [
      "from discrete_probability import *"
     ],
     "language": "python",
     "metadata": {},
     "outputs": [],
     "prompt_number": 1
    },
    {
     "cell_type": "code",
     "collapsed": false,
     "input": [
      "A,B,C,D,E,F,G,H = map(Variable, 'ABCDEFGH')"
     ],
     "language": "python",
     "metadata": {},
     "outputs": [],
     "prompt_number": 2
    },
    {
     "cell_type": "code",
     "collapsed": false,
     "input": [
      "BayesianNetwork([A,B,C,D,E,F,G,H], [A>B,B>C,C>D,D>E,E>F,F>G,G>H]).display(256, 256).topological_order"
     ],
     "language": "python",
     "metadata": {},
     "outputs": [
      {
       "html": [
        "<div id=\"probgraphdisplay60114\"></div>"
       ],
       "output_type": "display_data",
       "text": [
        "<IPython.core.display.HTML at 0x24b7910>"
       ]
      },
      {
       "javascript": [
        "$(\"head\").append($(\"<link/>\").attr({\n",
        "  rel:  \"stylesheet\",\n",
        "  type: \"text/css\",\n",
        "  href: \"/files/graph_display.css\"\n",
        "}));\n",
        "$.getScript(\"http://d3js.org/d3.v3.min.js\", function () {\n",
        "var cellDivId=\"probgraphdisplay60114\";var links=[{source:\"A\",target:\"B\"},{source:\"B\",target:\"C\"},{source:\"C\",target:\"D\"},{source:\"D\",target:\"E\"},{source:\"E\",target:\"F\"},{source:\"F\",target:\"G\"},{source:\"G\",target:\"H\"},];var w=256,h=256;var nodes = {};\n",
        "\n",
        "// Compute the distinct nodes from the links.\n",
        "links.forEach(function(link) {\n",
        "  link.source = nodes[link.source] || (nodes[link.source] = {name: link.source});\n",
        "  link.target = nodes[link.target] || (nodes[link.target] = {name: link.target});\n",
        "});\n",
        "\n",
        "var force = d3.layout.force()\n",
        "    .nodes(d3.values(nodes))\n",
        "    .links(links)\n",
        "    .size([w, h])\n",
        "    .linkDistance(60)\n",
        "    .charge(-300)\n",
        "    .on(\"tick\", tick)\n",
        "    .start();\n",
        "\n",
        "var svg = d3.select(\"#\"+cellDivId).append(\"svg:svg\")\n",
        "    .attr(\"width\", w)\n",
        "    .attr(\"height\", h);\n",
        "\n",
        "// Per-type markers, as they don't inherit styles.\n",
        "svg.append(\"svg:defs\").selectAll(\"marker\")\n",
        "    .data([\"arrow\"])\n",
        "  .enter().append(\"svg:marker\")\n",
        "    .attr(\"id\", String)\n",
        "    .attr(\"viewBox\", \"0 -5 10 10\")\n",
        "    .attr(\"refX\", 18)\n",
        "    .attr(\"refY\", -1.5)\n",
        "    .attr(\"markerWidth\", 6)\n",
        "    .attr(\"markerHeight\", 6)\n",
        "    .attr(\"orient\", \"auto\")\n",
        "  .append(\"svg:path\")\n",
        "    .attr(\"d\", \"M0,-5L10,0L0,5\");\n",
        "\n",
        "var path = svg.append(\"svg:g\").selectAll(\"path\")\n",
        "    .data(force.links())\n",
        "  .enter().append(\"svg:path\")\n",
        "    .attr(\"class\", function(d) { return \"link\"; })\n",
        "    .attr(\"marker-end\", function(d) { return \"url(#arrow)\"; });\n",
        "\n",
        "var circle = svg.append(\"svg:g\").selectAll(\"circle\")\n",
        "    .data(force.nodes())\n",
        "  .enter().append(\"svg:circle\")\n",
        "    .attr(\"r\", 8)\n",
        "    .call(force.drag);\n",
        "\n",
        "var text = svg.append(\"svg:g\").selectAll(\"g\")\n",
        "    .data(force.nodes())\n",
        "  .enter().append(\"svg:g\");\n",
        "\n",
        "// A copy of the text with a thick white stroke for legibility.\n",
        "text.append(\"svg:text\")\n",
        "    .attr(\"x\", 10)\n",
        "    .attr(\"y\", \".31em\")\n",
        "    .attr(\"class\", \"shadow\")\n",
        "    .text(function(d) { return d.name; });\n",
        "\n",
        "text.append(\"svg:text\")\n",
        "    .attr(\"x\", 10)\n",
        "    .attr(\"y\", \".31em\")\n",
        "    .text(function(d) { return d.name; });\n",
        "\n",
        "// Use elliptical arc path segments to doubly-encode directionality.\n",
        "function tick() {\n",
        "  path.attr(\"d\", function(d) {\n",
        "    var dx = d.target.x - d.source.x,\n",
        "        dy = d.target.y - d.source.y,\n",
        "        dr = Math.sqrt(dx * dx + dy * dy)*2;\n",
        "    return \"M\" + d.source.x + \",\" + d.source.y + \"A\" + dr + \",\" + dr + \" 0 0,1 \" + d.target.x + \",\" + d.target.y;\n",
        "  });\n",
        "\n",
        "  circle.attr(\"transform\", function(d) {\n",
        "    return \"translate(\" + d.x + \",\" + d.y + \")\";\n",
        "  });\n",
        "\n",
        "  text.attr(\"transform\", function(d) {\n",
        "    return \"translate(\" + d.x + \",\" + d.y + \")\";\n",
        "  });\n",
        "}\n",
        "});\n"
       ],
       "output_type": "display_data",
       "text": [
        "<IPython.core.display.Javascript at 0x24b7950>"
       ]
      },
      {
       "output_type": "pyout",
       "prompt_number": 3,
       "text": [
        "[A, B, C, D, E, F, G, H]"
       ]
      }
     ],
     "prompt_number": 3
    },
    {
     "cell_type": "code",
     "collapsed": false,
     "input": [
      "BayesianNetwork([A,B,C,D,E,F,G,H], [A>B,B>C,C>D,D>E,E>F,F>G,G>H,H>A]).display(256, 256).topological_order"
     ],
     "language": "python",
     "metadata": {},
     "outputs": [
      {
       "ename": "ValueError",
       "evalue": "Graph has at least one cycle.",
       "output_type": "pyerr",
       "traceback": [
        "\u001b[0;31m---------------------------------------------------------------------------\u001b[0m\n\u001b[0;31mValueError\u001b[0m                                Traceback (most recent call last)",
        "\u001b[0;32m<ipython-input-4-d87d3a27cb47>\u001b[0m in \u001b[0;36m<module>\u001b[0;34m()\u001b[0m\n\u001b[0;32m----> 1\u001b[0;31m \u001b[0mBayesianNetwork\u001b[0m\u001b[0;34m(\u001b[0m\u001b[0;34m[\u001b[0m\u001b[0mA\u001b[0m\u001b[0;34m,\u001b[0m\u001b[0mB\u001b[0m\u001b[0;34m,\u001b[0m\u001b[0mC\u001b[0m\u001b[0;34m,\u001b[0m\u001b[0mD\u001b[0m\u001b[0;34m,\u001b[0m\u001b[0mE\u001b[0m\u001b[0;34m,\u001b[0m\u001b[0mF\u001b[0m\u001b[0;34m,\u001b[0m\u001b[0mG\u001b[0m\u001b[0;34m,\u001b[0m\u001b[0mH\u001b[0m\u001b[0;34m]\u001b[0m\u001b[0;34m,\u001b[0m \u001b[0;34m[\u001b[0m\u001b[0mA\u001b[0m\u001b[0;34m>\u001b[0m\u001b[0mB\u001b[0m\u001b[0;34m,\u001b[0m\u001b[0mB\u001b[0m\u001b[0;34m>\u001b[0m\u001b[0mC\u001b[0m\u001b[0;34m,\u001b[0m\u001b[0mC\u001b[0m\u001b[0;34m>\u001b[0m\u001b[0mD\u001b[0m\u001b[0;34m,\u001b[0m\u001b[0mD\u001b[0m\u001b[0;34m>\u001b[0m\u001b[0mE\u001b[0m\u001b[0;34m,\u001b[0m\u001b[0mE\u001b[0m\u001b[0;34m>\u001b[0m\u001b[0mF\u001b[0m\u001b[0;34m,\u001b[0m\u001b[0mF\u001b[0m\u001b[0;34m>\u001b[0m\u001b[0mG\u001b[0m\u001b[0;34m,\u001b[0m\u001b[0mG\u001b[0m\u001b[0;34m>\u001b[0m\u001b[0mH\u001b[0m\u001b[0;34m,\u001b[0m\u001b[0mH\u001b[0m\u001b[0;34m>\u001b[0m\u001b[0mA\u001b[0m\u001b[0;34m]\u001b[0m\u001b[0;34m)\u001b[0m\u001b[0;34m.\u001b[0m\u001b[0mdisplay\u001b[0m\u001b[0;34m(\u001b[0m\u001b[0;36m256\u001b[0m\u001b[0;34m,\u001b[0m \u001b[0;36m256\u001b[0m\u001b[0;34m)\u001b[0m\u001b[0;34m.\u001b[0m\u001b[0mtopological_order\u001b[0m\u001b[0;34m\u001b[0m\u001b[0m\n\u001b[0m",
        "\u001b[0;32m/home/vnguyen/self/projects/darwiche-learn/discrete_probability.py\u001b[0m in \u001b[0;36m__init__\u001b[0;34m(self, variables, edges)\u001b[0m\n\u001b[1;32m    371\u001b[0m \u001b[0;32mclass\u001b[0m \u001b[0mBayesianNetwork\u001b[0m\u001b[0;34m(\u001b[0m\u001b[0mDirectedAcyclicGraph\u001b[0m\u001b[0;34m)\u001b[0m\u001b[0;34m:\u001b[0m\u001b[0;34m\u001b[0m\u001b[0m\n\u001b[1;32m    372\u001b[0m         \u001b[0;32mdef\u001b[0m \u001b[0m__init__\u001b[0m\u001b[0;34m(\u001b[0m\u001b[0mself\u001b[0m\u001b[0;34m,\u001b[0m \u001b[0mvariables\u001b[0m\u001b[0;34m,\u001b[0m \u001b[0medges\u001b[0m\u001b[0;34m)\u001b[0m\u001b[0;34m:\u001b[0m\u001b[0;34m\u001b[0m\u001b[0m\n\u001b[0;32m--> 373\u001b[0;31m                 \u001b[0msuper\u001b[0m\u001b[0;34m(\u001b[0m\u001b[0mBayesianNetwork\u001b[0m\u001b[0;34m,\u001b[0m \u001b[0mself\u001b[0m\u001b[0;34m)\u001b[0m\u001b[0;34m.\u001b[0m\u001b[0m__init__\u001b[0m\u001b[0;34m(\u001b[0m\u001b[0mvariables\u001b[0m\u001b[0;34m,\u001b[0m \u001b[0medges\u001b[0m\u001b[0;34m)\u001b[0m\u001b[0;34m\u001b[0m\u001b[0m\n\u001b[0m\u001b[1;32m    374\u001b[0m                 \u001b[0mself\u001b[0m\u001b[0;34m.\u001b[0m\u001b[0mconditionals\u001b[0m \u001b[0;34m=\u001b[0m \u001b[0;34m{\u001b[0m\u001b[0;34m}\u001b[0m\u001b[0;34m\u001b[0m\u001b[0m\n\u001b[1;32m    375\u001b[0m                 \u001b[0;32mfor\u001b[0m \u001b[0mvariable\u001b[0m \u001b[0;32min\u001b[0m \u001b[0mself\u001b[0m\u001b[0;34m.\u001b[0m\u001b[0mvariables\u001b[0m\u001b[0;34m:\u001b[0m\u001b[0;34m\u001b[0m\u001b[0m\n",
        "\u001b[0;32m/home/vnguyen/self/projects/darwiche-learn/discrete_probability.py\u001b[0m in \u001b[0;36m__init__\u001b[0;34m(self, variables, edges)\u001b[0m\n\u001b[1;32m    359\u001b[0m                 \u001b[0mself\u001b[0m\u001b[0;34m.\u001b[0m\u001b[0mleaf_variables\u001b[0m \u001b[0;34m=\u001b[0m \u001b[0mdag_leaf_variables\u001b[0m\u001b[0;34m(\u001b[0m\u001b[0mself\u001b[0m\u001b[0;34m)\u001b[0m\u001b[0;34m\u001b[0m\u001b[0m\n\u001b[1;32m    360\u001b[0m                 \u001b[0mself\u001b[0m\u001b[0;34m.\u001b[0m\u001b[0mfamilies\u001b[0m \u001b[0;34m=\u001b[0m \u001b[0mdict\u001b[0m\u001b[0;34m(\u001b[0m\u001b[0mzip\u001b[0m\u001b[0;34m(\u001b[0m\u001b[0mself\u001b[0m\u001b[0;34m.\u001b[0m\u001b[0mvariables\u001b[0m\u001b[0;34m,\u001b[0m \u001b[0;34m[\u001b[0m\u001b[0mdag_parents\u001b[0m\u001b[0;34m(\u001b[0m\u001b[0mself\u001b[0m\u001b[0;34m,\u001b[0m \u001b[0mvariable\u001b[0m\u001b[0;34m)\u001b[0m \u001b[0;32mfor\u001b[0m \u001b[0mvariable\u001b[0m \u001b[0;32min\u001b[0m \u001b[0mself\u001b[0m\u001b[0;34m.\u001b[0m\u001b[0mvariables\u001b[0m\u001b[0;34m]\u001b[0m\u001b[0;34m)\u001b[0m\u001b[0;34m)\u001b[0m\u001b[0;34m\u001b[0m\u001b[0m\n\u001b[0;32m--> 361\u001b[0;31m                 \u001b[0mself\u001b[0m\u001b[0;34m.\u001b[0m\u001b[0mtopological_order\u001b[0m \u001b[0;34m=\u001b[0m \u001b[0mdag_topological_sort\u001b[0m\u001b[0;34m(\u001b[0m\u001b[0mself\u001b[0m\u001b[0;34m)\u001b[0m\u001b[0;34m\u001b[0m\u001b[0m\n\u001b[0m\u001b[1;32m    362\u001b[0m         \u001b[0;32mdef\u001b[0m \u001b[0m__str__\u001b[0m\u001b[0;34m(\u001b[0m\u001b[0mself\u001b[0m\u001b[0;34m)\u001b[0m\u001b[0;34m:\u001b[0m\u001b[0;34m\u001b[0m\u001b[0m\n\u001b[1;32m    363\u001b[0m                 \u001b[0;32mreturn\u001b[0m \u001b[0mstr\u001b[0m\u001b[0;34m(\u001b[0m\u001b[0mlist\u001b[0m\u001b[0;34m(\u001b[0m\u001b[0mself\u001b[0m\u001b[0;34m.\u001b[0m\u001b[0medges\u001b[0m\u001b[0;34m)\u001b[0m\u001b[0;34m)\u001b[0m\u001b[0;34m\u001b[0m\u001b[0m\n",
        "\u001b[0;32m/home/vnguyen/self/projects/darwiche-learn/discrete_probability.py\u001b[0m in \u001b[0;36mdag_topological_sort\u001b[0;34m(dag)\u001b[0m\n\u001b[1;32m    349\u001b[0m                                 \u001b[0mpending\u001b[0m\u001b[0;34m.\u001b[0m\u001b[0mappend\u001b[0m\u001b[0;34m(\u001b[0m\u001b[0medge\u001b[0m\u001b[0;34m.\u001b[0m\u001b[0mto_var\u001b[0m\u001b[0;34m)\u001b[0m\u001b[0;34m\u001b[0m\u001b[0m\n\u001b[1;32m    350\u001b[0m         \u001b[0;32mif\u001b[0m \u001b[0mlen\u001b[0m\u001b[0;34m(\u001b[0m\u001b[0medges\u001b[0m\u001b[0;34m)\u001b[0m \u001b[0;34m>\u001b[0m \u001b[0;36m0\u001b[0m\u001b[0;34m:\u001b[0m\u001b[0;34m\u001b[0m\u001b[0m\n\u001b[0;32m--> 351\u001b[0;31m                 \u001b[0;32mraise\u001b[0m \u001b[0mValueError\u001b[0m\u001b[0;34m(\u001b[0m\u001b[0;34m'Graph has at least one cycle.'\u001b[0m\u001b[0;34m)\u001b[0m\u001b[0;34m\u001b[0m\u001b[0m\n\u001b[0m\u001b[1;32m    352\u001b[0m         \u001b[0;32mreturn\u001b[0m \u001b[0morder\u001b[0m\u001b[0;34m\u001b[0m\u001b[0m\n\u001b[1;32m    353\u001b[0m \u001b[0;34m\u001b[0m\u001b[0m\n",
        "\u001b[0;31mValueError\u001b[0m: Graph has at least one cycle."
       ]
      }
     ],
     "prompt_number": 4
    },
    {
     "cell_type": "code",
     "collapsed": false,
     "input": [
      "BayesianNetwork([A,B,C,D,E,F,G,H], [A>C,B>C,A>B,C>D,E>C,A>E,E>H,E>G,E>F,F>H]).display(256, 256).topological_order"
     ],
     "language": "python",
     "metadata": {},
     "outputs": [
      {
       "html": [
        "<div id=\"probgraphdisplay29438\"></div>"
       ],
       "output_type": "display_data",
       "text": [
        "<IPython.core.display.HTML at 0x2491bd0>"
       ]
      },
      {
       "javascript": [
        "$(\"head\").append($(\"<link/>\").attr({\n",
        "  rel:  \"stylesheet\",\n",
        "  type: \"text/css\",\n",
        "  href: \"/files/graph_display.css\"\n",
        "}));\n",
        "$.getScript(\"http://d3js.org/d3.v3.min.js\", function () {\n",
        "var cellDivId=\"probgraphdisplay29438\";var links=[{source:\"A\",target:\"C\"},{source:\"B\",target:\"C\"},{source:\"A\",target:\"B\"},{source:\"C\",target:\"D\"},{source:\"E\",target:\"C\"},{source:\"A\",target:\"E\"},{source:\"E\",target:\"H\"},{source:\"E\",target:\"G\"},{source:\"E\",target:\"F\"},{source:\"F\",target:\"H\"},];var w=256,h=256;var nodes = {};\n",
        "\n",
        "// Compute the distinct nodes from the links.\n",
        "links.forEach(function(link) {\n",
        "  link.source = nodes[link.source] || (nodes[link.source] = {name: link.source});\n",
        "  link.target = nodes[link.target] || (nodes[link.target] = {name: link.target});\n",
        "});\n",
        "\n",
        "var force = d3.layout.force()\n",
        "    .nodes(d3.values(nodes))\n",
        "    .links(links)\n",
        "    .size([w, h])\n",
        "    .linkDistance(60)\n",
        "    .charge(-300)\n",
        "    .on(\"tick\", tick)\n",
        "    .start();\n",
        "\n",
        "var svg = d3.select(\"#\"+cellDivId).append(\"svg:svg\")\n",
        "    .attr(\"width\", w)\n",
        "    .attr(\"height\", h);\n",
        "\n",
        "// Per-type markers, as they don't inherit styles.\n",
        "svg.append(\"svg:defs\").selectAll(\"marker\")\n",
        "    .data([\"arrow\"])\n",
        "  .enter().append(\"svg:marker\")\n",
        "    .attr(\"id\", String)\n",
        "    .attr(\"viewBox\", \"0 -5 10 10\")\n",
        "    .attr(\"refX\", 18)\n",
        "    .attr(\"refY\", -1.5)\n",
        "    .attr(\"markerWidth\", 6)\n",
        "    .attr(\"markerHeight\", 6)\n",
        "    .attr(\"orient\", \"auto\")\n",
        "  .append(\"svg:path\")\n",
        "    .attr(\"d\", \"M0,-5L10,0L0,5\");\n",
        "\n",
        "var path = svg.append(\"svg:g\").selectAll(\"path\")\n",
        "    .data(force.links())\n",
        "  .enter().append(\"svg:path\")\n",
        "    .attr(\"class\", function(d) { return \"link\"; })\n",
        "    .attr(\"marker-end\", function(d) { return \"url(#arrow)\"; });\n",
        "\n",
        "var circle = svg.append(\"svg:g\").selectAll(\"circle\")\n",
        "    .data(force.nodes())\n",
        "  .enter().append(\"svg:circle\")\n",
        "    .attr(\"r\", 8)\n",
        "    .call(force.drag);\n",
        "\n",
        "var text = svg.append(\"svg:g\").selectAll(\"g\")\n",
        "    .data(force.nodes())\n",
        "  .enter().append(\"svg:g\");\n",
        "\n",
        "// A copy of the text with a thick white stroke for legibility.\n",
        "text.append(\"svg:text\")\n",
        "    .attr(\"x\", 10)\n",
        "    .attr(\"y\", \".31em\")\n",
        "    .attr(\"class\", \"shadow\")\n",
        "    .text(function(d) { return d.name; });\n",
        "\n",
        "text.append(\"svg:text\")\n",
        "    .attr(\"x\", 10)\n",
        "    .attr(\"y\", \".31em\")\n",
        "    .text(function(d) { return d.name; });\n",
        "\n",
        "// Use elliptical arc path segments to doubly-encode directionality.\n",
        "function tick() {\n",
        "  path.attr(\"d\", function(d) {\n",
        "    var dx = d.target.x - d.source.x,\n",
        "        dy = d.target.y - d.source.y,\n",
        "        dr = Math.sqrt(dx * dx + dy * dy)*2;\n",
        "    return \"M\" + d.source.x + \",\" + d.source.y + \"A\" + dr + \",\" + dr + \" 0 0,1 \" + d.target.x + \",\" + d.target.y;\n",
        "  });\n",
        "\n",
        "  circle.attr(\"transform\", function(d) {\n",
        "    return \"translate(\" + d.x + \",\" + d.y + \")\";\n",
        "  });\n",
        "\n",
        "  text.attr(\"transform\", function(d) {\n",
        "    return \"translate(\" + d.x + \",\" + d.y + \")\";\n",
        "  });\n",
        "}\n",
        "});\n"
       ],
       "output_type": "display_data",
       "text": [
        "<IPython.core.display.Javascript at 0x2491bd0>"
       ]
      },
      {
       "output_type": "pyout",
       "prompt_number": 5,
       "text": [
        "[A, E, F, H, G, B, C, D]"
       ]
      }
     ],
     "prompt_number": 5
    },
    {
     "cell_type": "code",
     "collapsed": false,
     "input": [
      "BayesianNetwork([A,B,C,D,E,F,G,H], [A>C,B>C,A>B,G>D,E>C,A>E,E>H,H>G,E>F,F>H]).display(256, 256).topological_order"
     ],
     "language": "python",
     "metadata": {},
     "outputs": [
      {
       "html": [
        "<div id=\"probgraphdisplay19599\"></div>"
       ],
       "output_type": "display_data",
       "text": [
        "<IPython.core.display.HTML at 0x24b7cd0>"
       ]
      },
      {
       "javascript": [
        "$(\"head\").append($(\"<link/>\").attr({\n",
        "  rel:  \"stylesheet\",\n",
        "  type: \"text/css\",\n",
        "  href: \"/files/graph_display.css\"\n",
        "}));\n",
        "$.getScript(\"http://d3js.org/d3.v3.min.js\", function () {\n",
        "var cellDivId=\"probgraphdisplay19599\";var links=[{source:\"A\",target:\"C\"},{source:\"B\",target:\"C\"},{source:\"A\",target:\"B\"},{source:\"G\",target:\"D\"},{source:\"E\",target:\"C\"},{source:\"A\",target:\"E\"},{source:\"E\",target:\"H\"},{source:\"H\",target:\"G\"},{source:\"E\",target:\"F\"},{source:\"F\",target:\"H\"},];var w=256,h=256;var nodes = {};\n",
        "\n",
        "// Compute the distinct nodes from the links.\n",
        "links.forEach(function(link) {\n",
        "  link.source = nodes[link.source] || (nodes[link.source] = {name: link.source});\n",
        "  link.target = nodes[link.target] || (nodes[link.target] = {name: link.target});\n",
        "});\n",
        "\n",
        "var force = d3.layout.force()\n",
        "    .nodes(d3.values(nodes))\n",
        "    .links(links)\n",
        "    .size([w, h])\n",
        "    .linkDistance(60)\n",
        "    .charge(-300)\n",
        "    .on(\"tick\", tick)\n",
        "    .start();\n",
        "\n",
        "var svg = d3.select(\"#\"+cellDivId).append(\"svg:svg\")\n",
        "    .attr(\"width\", w)\n",
        "    .attr(\"height\", h);\n",
        "\n",
        "// Per-type markers, as they don't inherit styles.\n",
        "svg.append(\"svg:defs\").selectAll(\"marker\")\n",
        "    .data([\"arrow\"])\n",
        "  .enter().append(\"svg:marker\")\n",
        "    .attr(\"id\", String)\n",
        "    .attr(\"viewBox\", \"0 -5 10 10\")\n",
        "    .attr(\"refX\", 18)\n",
        "    .attr(\"refY\", -1.5)\n",
        "    .attr(\"markerWidth\", 6)\n",
        "    .attr(\"markerHeight\", 6)\n",
        "    .attr(\"orient\", \"auto\")\n",
        "  .append(\"svg:path\")\n",
        "    .attr(\"d\", \"M0,-5L10,0L0,5\");\n",
        "\n",
        "var path = svg.append(\"svg:g\").selectAll(\"path\")\n",
        "    .data(force.links())\n",
        "  .enter().append(\"svg:path\")\n",
        "    .attr(\"class\", function(d) { return \"link\"; })\n",
        "    .attr(\"marker-end\", function(d) { return \"url(#arrow)\"; });\n",
        "\n",
        "var circle = svg.append(\"svg:g\").selectAll(\"circle\")\n",
        "    .data(force.nodes())\n",
        "  .enter().append(\"svg:circle\")\n",
        "    .attr(\"r\", 8)\n",
        "    .call(force.drag);\n",
        "\n",
        "var text = svg.append(\"svg:g\").selectAll(\"g\")\n",
        "    .data(force.nodes())\n",
        "  .enter().append(\"svg:g\");\n",
        "\n",
        "// A copy of the text with a thick white stroke for legibility.\n",
        "text.append(\"svg:text\")\n",
        "    .attr(\"x\", 10)\n",
        "    .attr(\"y\", \".31em\")\n",
        "    .attr(\"class\", \"shadow\")\n",
        "    .text(function(d) { return d.name; });\n",
        "\n",
        "text.append(\"svg:text\")\n",
        "    .attr(\"x\", 10)\n",
        "    .attr(\"y\", \".31em\")\n",
        "    .text(function(d) { return d.name; });\n",
        "\n",
        "// Use elliptical arc path segments to doubly-encode directionality.\n",
        "function tick() {\n",
        "  path.attr(\"d\", function(d) {\n",
        "    var dx = d.target.x - d.source.x,\n",
        "        dy = d.target.y - d.source.y,\n",
        "        dr = Math.sqrt(dx * dx + dy * dy)*2;\n",
        "    return \"M\" + d.source.x + \",\" + d.source.y + \"A\" + dr + \",\" + dr + \" 0 0,1 \" + d.target.x + \",\" + d.target.y;\n",
        "  });\n",
        "\n",
        "  circle.attr(\"transform\", function(d) {\n",
        "    return \"translate(\" + d.x + \",\" + d.y + \")\";\n",
        "  });\n",
        "\n",
        "  text.attr(\"transform\", function(d) {\n",
        "    return \"translate(\" + d.x + \",\" + d.y + \")\";\n",
        "  });\n",
        "}\n",
        "});\n"
       ],
       "output_type": "display_data",
       "text": [
        "<IPython.core.display.Javascript at 0x24b7cd0>"
       ]
      },
      {
       "output_type": "pyout",
       "prompt_number": 6,
       "text": [
        "[A, E, F, H, G, D, B, C]"
       ]
      }
     ],
     "prompt_number": 6
    },
    {
     "cell_type": "code",
     "collapsed": false,
     "input": [
      "BayesianNetwork([A,B,C,D,E,F,G,H], [A>C,B>C,A>B,G>D,E>C,A>E,E>H,H>G,E>F,F>H,D>A]).display().topological_order"
     ],
     "language": "python",
     "metadata": {},
     "outputs": [
      {
       "ename": "ValueError",
       "evalue": "Graph has at least one cycle.",
       "output_type": "pyerr",
       "traceback": [
        "\u001b[0;31m---------------------------------------------------------------------------\u001b[0m\n\u001b[0;31mValueError\u001b[0m                                Traceback (most recent call last)",
        "\u001b[0;32m<ipython-input-7-10ea1497ed37>\u001b[0m in \u001b[0;36m<module>\u001b[0;34m()\u001b[0m\n\u001b[0;32m----> 1\u001b[0;31m \u001b[0mBayesianNetwork\u001b[0m\u001b[0;34m(\u001b[0m\u001b[0;34m[\u001b[0m\u001b[0mA\u001b[0m\u001b[0;34m,\u001b[0m\u001b[0mB\u001b[0m\u001b[0;34m,\u001b[0m\u001b[0mC\u001b[0m\u001b[0;34m,\u001b[0m\u001b[0mD\u001b[0m\u001b[0;34m,\u001b[0m\u001b[0mE\u001b[0m\u001b[0;34m,\u001b[0m\u001b[0mF\u001b[0m\u001b[0;34m,\u001b[0m\u001b[0mG\u001b[0m\u001b[0;34m,\u001b[0m\u001b[0mH\u001b[0m\u001b[0;34m]\u001b[0m\u001b[0;34m,\u001b[0m \u001b[0;34m[\u001b[0m\u001b[0mA\u001b[0m\u001b[0;34m>\u001b[0m\u001b[0mC\u001b[0m\u001b[0;34m,\u001b[0m\u001b[0mB\u001b[0m\u001b[0;34m>\u001b[0m\u001b[0mC\u001b[0m\u001b[0;34m,\u001b[0m\u001b[0mA\u001b[0m\u001b[0;34m>\u001b[0m\u001b[0mB\u001b[0m\u001b[0;34m,\u001b[0m\u001b[0mG\u001b[0m\u001b[0;34m>\u001b[0m\u001b[0mD\u001b[0m\u001b[0;34m,\u001b[0m\u001b[0mE\u001b[0m\u001b[0;34m>\u001b[0m\u001b[0mC\u001b[0m\u001b[0;34m,\u001b[0m\u001b[0mA\u001b[0m\u001b[0;34m>\u001b[0m\u001b[0mE\u001b[0m\u001b[0;34m,\u001b[0m\u001b[0mE\u001b[0m\u001b[0;34m>\u001b[0m\u001b[0mH\u001b[0m\u001b[0;34m,\u001b[0m\u001b[0mH\u001b[0m\u001b[0;34m>\u001b[0m\u001b[0mG\u001b[0m\u001b[0;34m,\u001b[0m\u001b[0mE\u001b[0m\u001b[0;34m>\u001b[0m\u001b[0mF\u001b[0m\u001b[0;34m,\u001b[0m\u001b[0mF\u001b[0m\u001b[0;34m>\u001b[0m\u001b[0mH\u001b[0m\u001b[0;34m,\u001b[0m\u001b[0mD\u001b[0m\u001b[0;34m>\u001b[0m\u001b[0mA\u001b[0m\u001b[0;34m]\u001b[0m\u001b[0;34m)\u001b[0m\u001b[0;34m.\u001b[0m\u001b[0mdisplay\u001b[0m\u001b[0;34m(\u001b[0m\u001b[0;34m)\u001b[0m\u001b[0;34m.\u001b[0m\u001b[0mtopological_order\u001b[0m\u001b[0;34m\u001b[0m\u001b[0m\n\u001b[0m",
        "\u001b[0;32m/home/vnguyen/self/projects/darwiche-learn/discrete_probability.py\u001b[0m in \u001b[0;36m__init__\u001b[0;34m(self, variables, edges)\u001b[0m\n\u001b[1;32m    371\u001b[0m \u001b[0;32mclass\u001b[0m \u001b[0mBayesianNetwork\u001b[0m\u001b[0;34m(\u001b[0m\u001b[0mDirectedAcyclicGraph\u001b[0m\u001b[0;34m)\u001b[0m\u001b[0;34m:\u001b[0m\u001b[0;34m\u001b[0m\u001b[0m\n\u001b[1;32m    372\u001b[0m         \u001b[0;32mdef\u001b[0m \u001b[0m__init__\u001b[0m\u001b[0;34m(\u001b[0m\u001b[0mself\u001b[0m\u001b[0;34m,\u001b[0m \u001b[0mvariables\u001b[0m\u001b[0;34m,\u001b[0m \u001b[0medges\u001b[0m\u001b[0;34m)\u001b[0m\u001b[0;34m:\u001b[0m\u001b[0;34m\u001b[0m\u001b[0m\n\u001b[0;32m--> 373\u001b[0;31m                 \u001b[0msuper\u001b[0m\u001b[0;34m(\u001b[0m\u001b[0mBayesianNetwork\u001b[0m\u001b[0;34m,\u001b[0m \u001b[0mself\u001b[0m\u001b[0;34m)\u001b[0m\u001b[0;34m.\u001b[0m\u001b[0m__init__\u001b[0m\u001b[0;34m(\u001b[0m\u001b[0mvariables\u001b[0m\u001b[0;34m,\u001b[0m \u001b[0medges\u001b[0m\u001b[0;34m)\u001b[0m\u001b[0;34m\u001b[0m\u001b[0m\n\u001b[0m\u001b[1;32m    374\u001b[0m                 \u001b[0mself\u001b[0m\u001b[0;34m.\u001b[0m\u001b[0mconditionals\u001b[0m \u001b[0;34m=\u001b[0m \u001b[0;34m{\u001b[0m\u001b[0;34m}\u001b[0m\u001b[0;34m\u001b[0m\u001b[0m\n\u001b[1;32m    375\u001b[0m                 \u001b[0;32mfor\u001b[0m \u001b[0mvariable\u001b[0m \u001b[0;32min\u001b[0m \u001b[0mself\u001b[0m\u001b[0;34m.\u001b[0m\u001b[0mvariables\u001b[0m\u001b[0;34m:\u001b[0m\u001b[0;34m\u001b[0m\u001b[0m\n",
        "\u001b[0;32m/home/vnguyen/self/projects/darwiche-learn/discrete_probability.py\u001b[0m in \u001b[0;36m__init__\u001b[0;34m(self, variables, edges)\u001b[0m\n\u001b[1;32m    359\u001b[0m                 \u001b[0mself\u001b[0m\u001b[0;34m.\u001b[0m\u001b[0mleaf_variables\u001b[0m \u001b[0;34m=\u001b[0m \u001b[0mdag_leaf_variables\u001b[0m\u001b[0;34m(\u001b[0m\u001b[0mself\u001b[0m\u001b[0;34m)\u001b[0m\u001b[0;34m\u001b[0m\u001b[0m\n\u001b[1;32m    360\u001b[0m                 \u001b[0mself\u001b[0m\u001b[0;34m.\u001b[0m\u001b[0mfamilies\u001b[0m \u001b[0;34m=\u001b[0m \u001b[0mdict\u001b[0m\u001b[0;34m(\u001b[0m\u001b[0mzip\u001b[0m\u001b[0;34m(\u001b[0m\u001b[0mself\u001b[0m\u001b[0;34m.\u001b[0m\u001b[0mvariables\u001b[0m\u001b[0;34m,\u001b[0m \u001b[0;34m[\u001b[0m\u001b[0mdag_parents\u001b[0m\u001b[0;34m(\u001b[0m\u001b[0mself\u001b[0m\u001b[0;34m,\u001b[0m \u001b[0mvariable\u001b[0m\u001b[0;34m)\u001b[0m \u001b[0;32mfor\u001b[0m \u001b[0mvariable\u001b[0m \u001b[0;32min\u001b[0m \u001b[0mself\u001b[0m\u001b[0;34m.\u001b[0m\u001b[0mvariables\u001b[0m\u001b[0;34m]\u001b[0m\u001b[0;34m)\u001b[0m\u001b[0;34m)\u001b[0m\u001b[0;34m\u001b[0m\u001b[0m\n\u001b[0;32m--> 361\u001b[0;31m                 \u001b[0mself\u001b[0m\u001b[0;34m.\u001b[0m\u001b[0mtopological_order\u001b[0m \u001b[0;34m=\u001b[0m \u001b[0mdag_topological_sort\u001b[0m\u001b[0;34m(\u001b[0m\u001b[0mself\u001b[0m\u001b[0;34m)\u001b[0m\u001b[0;34m\u001b[0m\u001b[0m\n\u001b[0m\u001b[1;32m    362\u001b[0m         \u001b[0;32mdef\u001b[0m \u001b[0m__str__\u001b[0m\u001b[0;34m(\u001b[0m\u001b[0mself\u001b[0m\u001b[0;34m)\u001b[0m\u001b[0;34m:\u001b[0m\u001b[0;34m\u001b[0m\u001b[0m\n\u001b[1;32m    363\u001b[0m                 \u001b[0;32mreturn\u001b[0m \u001b[0mstr\u001b[0m\u001b[0;34m(\u001b[0m\u001b[0mlist\u001b[0m\u001b[0;34m(\u001b[0m\u001b[0mself\u001b[0m\u001b[0;34m.\u001b[0m\u001b[0medges\u001b[0m\u001b[0;34m)\u001b[0m\u001b[0;34m)\u001b[0m\u001b[0;34m\u001b[0m\u001b[0m\n",
        "\u001b[0;32m/home/vnguyen/self/projects/darwiche-learn/discrete_probability.py\u001b[0m in \u001b[0;36mdag_topological_sort\u001b[0;34m(dag)\u001b[0m\n\u001b[1;32m    349\u001b[0m                                 \u001b[0mpending\u001b[0m\u001b[0;34m.\u001b[0m\u001b[0mappend\u001b[0m\u001b[0;34m(\u001b[0m\u001b[0medge\u001b[0m\u001b[0;34m.\u001b[0m\u001b[0mto_var\u001b[0m\u001b[0;34m)\u001b[0m\u001b[0;34m\u001b[0m\u001b[0m\n\u001b[1;32m    350\u001b[0m         \u001b[0;32mif\u001b[0m \u001b[0mlen\u001b[0m\u001b[0;34m(\u001b[0m\u001b[0medges\u001b[0m\u001b[0;34m)\u001b[0m \u001b[0;34m>\u001b[0m \u001b[0;36m0\u001b[0m\u001b[0;34m:\u001b[0m\u001b[0;34m\u001b[0m\u001b[0m\n\u001b[0;32m--> 351\u001b[0;31m                 \u001b[0;32mraise\u001b[0m \u001b[0mValueError\u001b[0m\u001b[0;34m(\u001b[0m\u001b[0;34m'Graph has at least one cycle.'\u001b[0m\u001b[0;34m)\u001b[0m\u001b[0;34m\u001b[0m\u001b[0m\n\u001b[0m\u001b[1;32m    352\u001b[0m         \u001b[0;32mreturn\u001b[0m \u001b[0morder\u001b[0m\u001b[0;34m\u001b[0m\u001b[0m\n\u001b[1;32m    353\u001b[0m \u001b[0;34m\u001b[0m\u001b[0m\n",
        "\u001b[0;31mValueError\u001b[0m: Graph has at least one cycle."
       ]
      }
     ],
     "prompt_number": 7
    },
    {
     "cell_type": "code",
     "collapsed": false,
     "input": [
      "bn = BayesianNetwork([A,B,C,D,E,F,G,H], [A>C,B>C,A>B,G>D,E>C,A>E,E>H,H>G,F>E,F>H]).display(256, 256)\n",
      "print(bn.root_variables)\n",
      "print(bn.leaf_variables)\n",
      "print(bn.families)\n",
      "print(bn.topological_order)"
     ],
     "language": "python",
     "metadata": {},
     "outputs": [
      {
       "html": [
        "<div id=\"probgraphdisplay63169\"></div>"
       ],
       "output_type": "display_data",
       "text": [
        "<IPython.core.display.HTML at 0x24ad750>"
       ]
      },
      {
       "javascript": [
        "$(\"head\").append($(\"<link/>\").attr({\n",
        "  rel:  \"stylesheet\",\n",
        "  type: \"text/css\",\n",
        "  href: \"/files/graph_display.css\"\n",
        "}));\n",
        "$.getScript(\"http://d3js.org/d3.v3.min.js\", function () {\n",
        "var cellDivId=\"probgraphdisplay63169\";var links=[{source:\"A\",target:\"C\"},{source:\"B\",target:\"C\"},{source:\"A\",target:\"B\"},{source:\"G\",target:\"D\"},{source:\"E\",target:\"C\"},{source:\"A\",target:\"E\"},{source:\"E\",target:\"H\"},{source:\"H\",target:\"G\"},{source:\"F\",target:\"E\"},{source:\"F\",target:\"H\"},];var w=256,h=256;var nodes = {};\n",
        "\n",
        "// Compute the distinct nodes from the links.\n",
        "links.forEach(function(link) {\n",
        "  link.source = nodes[link.source] || (nodes[link.source] = {name: link.source});\n",
        "  link.target = nodes[link.target] || (nodes[link.target] = {name: link.target});\n",
        "});\n",
        "\n",
        "var force = d3.layout.force()\n",
        "    .nodes(d3.values(nodes))\n",
        "    .links(links)\n",
        "    .size([w, h])\n",
        "    .linkDistance(60)\n",
        "    .charge(-300)\n",
        "    .on(\"tick\", tick)\n",
        "    .start();\n",
        "\n",
        "var svg = d3.select(\"#\"+cellDivId).append(\"svg:svg\")\n",
        "    .attr(\"width\", w)\n",
        "    .attr(\"height\", h);\n",
        "\n",
        "// Per-type markers, as they don't inherit styles.\n",
        "svg.append(\"svg:defs\").selectAll(\"marker\")\n",
        "    .data([\"arrow\"])\n",
        "  .enter().append(\"svg:marker\")\n",
        "    .attr(\"id\", String)\n",
        "    .attr(\"viewBox\", \"0 -5 10 10\")\n",
        "    .attr(\"refX\", 18)\n",
        "    .attr(\"refY\", -1.5)\n",
        "    .attr(\"markerWidth\", 6)\n",
        "    .attr(\"markerHeight\", 6)\n",
        "    .attr(\"orient\", \"auto\")\n",
        "  .append(\"svg:path\")\n",
        "    .attr(\"d\", \"M0,-5L10,0L0,5\");\n",
        "\n",
        "var path = svg.append(\"svg:g\").selectAll(\"path\")\n",
        "    .data(force.links())\n",
        "  .enter().append(\"svg:path\")\n",
        "    .attr(\"class\", function(d) { return \"link\"; })\n",
        "    .attr(\"marker-end\", function(d) { return \"url(#arrow)\"; });\n",
        "\n",
        "var circle = svg.append(\"svg:g\").selectAll(\"circle\")\n",
        "    .data(force.nodes())\n",
        "  .enter().append(\"svg:circle\")\n",
        "    .attr(\"r\", 8)\n",
        "    .call(force.drag);\n",
        "\n",
        "var text = svg.append(\"svg:g\").selectAll(\"g\")\n",
        "    .data(force.nodes())\n",
        "  .enter().append(\"svg:g\");\n",
        "\n",
        "// A copy of the text with a thick white stroke for legibility.\n",
        "text.append(\"svg:text\")\n",
        "    .attr(\"x\", 10)\n",
        "    .attr(\"y\", \".31em\")\n",
        "    .attr(\"class\", \"shadow\")\n",
        "    .text(function(d) { return d.name; });\n",
        "\n",
        "text.append(\"svg:text\")\n",
        "    .attr(\"x\", 10)\n",
        "    .attr(\"y\", \".31em\")\n",
        "    .text(function(d) { return d.name; });\n",
        "\n",
        "// Use elliptical arc path segments to doubly-encode directionality.\n",
        "function tick() {\n",
        "  path.attr(\"d\", function(d) {\n",
        "    var dx = d.target.x - d.source.x,\n",
        "        dy = d.target.y - d.source.y,\n",
        "        dr = Math.sqrt(dx * dx + dy * dy)*2;\n",
        "    return \"M\" + d.source.x + \",\" + d.source.y + \"A\" + dr + \",\" + dr + \" 0 0,1 \" + d.target.x + \",\" + d.target.y;\n",
        "  });\n",
        "\n",
        "  circle.attr(\"transform\", function(d) {\n",
        "    return \"translate(\" + d.x + \",\" + d.y + \")\";\n",
        "  });\n",
        "\n",
        "  text.attr(\"transform\", function(d) {\n",
        "    return \"translate(\" + d.x + \",\" + d.y + \")\";\n",
        "  });\n",
        "}\n",
        "});\n"
       ],
       "output_type": "display_data",
       "text": [
        "<IPython.core.display.Javascript at 0x24ad750>"
       ]
      },
      {
       "output_type": "stream",
       "stream": "stdout",
       "text": [
        "frozenset([F, A])\n",
        "frozenset([C, D])\n",
        "{C: frozenset([E, B, A]), H: frozenset([E, F]), A: frozenset([]), G: frozenset([H]), B: frozenset([A]), F: frozenset([]), E: frozenset([F, A]), D: frozenset([G])}\n",
        "[A, B, F, E, C, H, G, D]\n"
       ]
      }
     ],
     "prompt_number": 8
    },
    {
     "cell_type": "code",
     "collapsed": false,
     "input": [
      "BayesianNetwork([A,B,C,D], [A>C,B>C,A>B,D>B]).display(256, 256)"
     ],
     "language": "python",
     "metadata": {},
     "outputs": [
      {
       "html": [
        "<div id=\"probgraphdisplay28342\"></div>"
       ],
       "output_type": "display_data",
       "text": [
        "<IPython.core.display.HTML at 0x24ade50>"
       ]
      },
      {
       "javascript": [
        "$(\"head\").append($(\"<link/>\").attr({\n",
        "  rel:  \"stylesheet\",\n",
        "  type: \"text/css\",\n",
        "  href: \"/files/graph_display.css\"\n",
        "}));\n",
        "$.getScript(\"http://d3js.org/d3.v3.min.js\", function () {\n",
        "var cellDivId=\"probgraphdisplay28342\";var links=[{source:\"A\",target:\"C\"},{source:\"B\",target:\"C\"},{source:\"A\",target:\"B\"},{source:\"D\",target:\"B\"},];var w=256,h=256;var nodes = {};\n",
        "\n",
        "// Compute the distinct nodes from the links.\n",
        "links.forEach(function(link) {\n",
        "  link.source = nodes[link.source] || (nodes[link.source] = {name: link.source});\n",
        "  link.target = nodes[link.target] || (nodes[link.target] = {name: link.target});\n",
        "});\n",
        "\n",
        "var force = d3.layout.force()\n",
        "    .nodes(d3.values(nodes))\n",
        "    .links(links)\n",
        "    .size([w, h])\n",
        "    .linkDistance(60)\n",
        "    .charge(-300)\n",
        "    .on(\"tick\", tick)\n",
        "    .start();\n",
        "\n",
        "var svg = d3.select(\"#\"+cellDivId).append(\"svg:svg\")\n",
        "    .attr(\"width\", w)\n",
        "    .attr(\"height\", h);\n",
        "\n",
        "// Per-type markers, as they don't inherit styles.\n",
        "svg.append(\"svg:defs\").selectAll(\"marker\")\n",
        "    .data([\"arrow\"])\n",
        "  .enter().append(\"svg:marker\")\n",
        "    .attr(\"id\", String)\n",
        "    .attr(\"viewBox\", \"0 -5 10 10\")\n",
        "    .attr(\"refX\", 18)\n",
        "    .attr(\"refY\", -1.5)\n",
        "    .attr(\"markerWidth\", 6)\n",
        "    .attr(\"markerHeight\", 6)\n",
        "    .attr(\"orient\", \"auto\")\n",
        "  .append(\"svg:path\")\n",
        "    .attr(\"d\", \"M0,-5L10,0L0,5\");\n",
        "\n",
        "var path = svg.append(\"svg:g\").selectAll(\"path\")\n",
        "    .data(force.links())\n",
        "  .enter().append(\"svg:path\")\n",
        "    .attr(\"class\", function(d) { return \"link\"; })\n",
        "    .attr(\"marker-end\", function(d) { return \"url(#arrow)\"; });\n",
        "\n",
        "var circle = svg.append(\"svg:g\").selectAll(\"circle\")\n",
        "    .data(force.nodes())\n",
        "  .enter().append(\"svg:circle\")\n",
        "    .attr(\"r\", 8)\n",
        "    .call(force.drag);\n",
        "\n",
        "var text = svg.append(\"svg:g\").selectAll(\"g\")\n",
        "    .data(force.nodes())\n",
        "  .enter().append(\"svg:g\");\n",
        "\n",
        "// A copy of the text with a thick white stroke for legibility.\n",
        "text.append(\"svg:text\")\n",
        "    .attr(\"x\", 10)\n",
        "    .attr(\"y\", \".31em\")\n",
        "    .attr(\"class\", \"shadow\")\n",
        "    .text(function(d) { return d.name; });\n",
        "\n",
        "text.append(\"svg:text\")\n",
        "    .attr(\"x\", 10)\n",
        "    .attr(\"y\", \".31em\")\n",
        "    .text(function(d) { return d.name; });\n",
        "\n",
        "// Use elliptical arc path segments to doubly-encode directionality.\n",
        "function tick() {\n",
        "  path.attr(\"d\", function(d) {\n",
        "    var dx = d.target.x - d.source.x,\n",
        "        dy = d.target.y - d.source.y,\n",
        "        dr = Math.sqrt(dx * dx + dy * dy)*2;\n",
        "    return \"M\" + d.source.x + \",\" + d.source.y + \"A\" + dr + \",\" + dr + \" 0 0,1 \" + d.target.x + \",\" + d.target.y;\n",
        "  });\n",
        "\n",
        "  circle.attr(\"transform\", function(d) {\n",
        "    return \"translate(\" + d.x + \",\" + d.y + \")\";\n",
        "  });\n",
        "\n",
        "  text.attr(\"transform\", function(d) {\n",
        "    return \"translate(\" + d.x + \",\" + d.y + \")\";\n",
        "  });\n",
        "}\n",
        "});\n"
       ],
       "output_type": "display_data",
       "text": [
        "<IPython.core.display.Javascript at 0x24b0e50>"
       ]
      },
      {
       "output_type": "pyout",
       "prompt_number": 9,
       "text": [
        "[A > C, B > C, A > B, D > B]"
       ]
      }
     ],
     "prompt_number": 9
    },
    {
     "cell_type": "code",
     "collapsed": false,
     "input": [],
     "language": "python",
     "metadata": {},
     "outputs": []
    }
   ],
   "metadata": {}
  }
 ]
}