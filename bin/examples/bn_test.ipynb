{
 "metadata": {
  "name": "bn_test"
 },
 "nbformat": 3,
 "nbformat_minor": 0,
 "worksheets": [
  {
   "cells": [
    {
     "cell_type": "code",
     "collapsed": false,
     "input": [
      "from probability import *"
     ],
     "language": "python",
     "metadata": {},
     "outputs": [],
     "prompt_number": 1
    },
    {
     "cell_type": "markdown",
     "metadata": {},
     "source": [
      "Let's start with a simple three variable Bayesian network. First we need to define our variables."
     ]
    },
    {
     "cell_type": "code",
     "collapsed": false,
     "input": [
      "E, H, S = variables = map(Variable, 'EHS')\n",
      "# equivalent to E, H, S = variables = Variable('E'), ..."
     ],
     "language": "python",
     "metadata": {},
     "outputs": [],
     "prompt_number": 2
    },
    {
     "cell_type": "markdown",
     "metadata": {},
     "source": [
      "By default the values a variable can take are `True` and `False`."
     ]
    },
    {
     "cell_type": "code",
     "collapsed": false,
     "input": [
      "print(E)\n",
      "print(E.values)"
     ],
     "language": "python",
     "metadata": {},
     "outputs": [
      {
       "output_type": "stream",
       "stream": "stdout",
       "text": [
        "E\n",
        "(True, False)\n"
       ]
      }
     ],
     "prompt_number": 3
    },
    {
     "cell_type": "markdown",
     "metadata": {},
     "source": [
      "An `Assignment` represents a variable taking on one of its values and can be made using the `<<` operator."
     ]
    },
    {
     "cell_type": "code",
     "collapsed": false,
     "input": [
      "e = E << True\n",
      "print(e)"
     ],
     "language": "python",
     "metadata": {},
     "outputs": [
      {
       "output_type": "stream",
       "stream": "stdout",
       "text": [
        "E=True\n"
       ]
      }
     ],
     "prompt_number": 4
    },
    {
     "cell_type": "markdown",
     "metadata": {},
     "source": [
      "We can get all of the assignments for a variable using `get_assignments()` which returns all of the assignments as an unpackable list."
     ]
    },
    {
     "cell_type": "code",
     "collapsed": false,
     "input": [
      "e, e_ = E.get_assignments()\n",
      "h, h_ = H.get_assignments()\n",
      "s, s_ = S.get_assignments()\n",
      "print(h)\n",
      "print(s_)"
     ],
     "language": "python",
     "metadata": {},
     "outputs": [
      {
       "output_type": "stream",
       "stream": "stdout",
       "text": [
        "H=True\n",
        "S=False\n"
       ]
      }
     ],
     "prompt_number": 5
    },
    {
     "cell_type": "markdown",
     "metadata": {},
     "source": [
      "Now we'll define a small data set over these variables that we can use to learn a parameterization for our network."
     ]
    },
    {
     "cell_type": "code",
     "collapsed": false,
     "input": [
      "data_header = [H, S, E]\n",
      "data_samples = [\n",
      "    [True, False, True],\n",
      "    [True, False, True],\n",
      "    [False, True, False],\n",
      "    [False, False, True],\n",
      "    [True, False, False],\n",
      "    [True, False, True],\n",
      "    [False, False, False],\n",
      "    [True, False, True],\n",
      "    [True, False, True],\n",
      "    [False, False, True],\n",
      "    [True, False, True],\n",
      "    [True, True, True],\n",
      "    [True, False, True],\n",
      "    [True, True, True],\n",
      "    [True, False, True],\n",
      "    [True, False, True]]"
     ],
     "language": "python",
     "metadata": {},
     "outputs": [],
     "prompt_number": 6
    },
    {
     "cell_type": "markdown",
     "metadata": {},
     "source": [
      "Before creating our Bayesian network let's represent this data using a `JointTable`."
     ]
    },
    {
     "cell_type": "code",
     "collapsed": false,
     "input": [
      "P = JointTable(variables)\n",
      "P.learn_from_complete_data(data_header, data_samples)"
     ],
     "language": "python",
     "metadata": {},
     "outputs": [
      {
       "output_type": "pyout",
       "prompt_number": 7,
       "text": [
        "E     | S     | H     | P(E,S,H)\n",
        "---------------------------------\n",
        "True  | True  | True  | 0.125\n",
        "True  | True  | False | 0.0\n",
        "True  | False | True  | 0.5625\n",
        "True  | False | False | 0.125\n",
        "False | True  | True  | 0.0\n",
        "False | True  | False | 0.0625\n",
        "False | False | True  | 0.0625\n",
        "False | False | False | 0.0625"
       ]
      }
     ],
     "prompt_number": 7
    },
    {
     "cell_type": "markdown",
     "metadata": {},
     "source": [
      "`JointTable`s provide methods for marginalization (`marginalize_over`, `marginalize_out`) and conditioning (`condition`, `condition_on`)."
     ]
    },
    {
     "cell_type": "code",
     "collapsed": false,
     "input": [
      "print(P.marginalize_over([E, S]))"
     ],
     "language": "python",
     "metadata": {},
     "outputs": [
      {
       "output_type": "stream",
       "stream": "stdout",
       "text": [
        "E     | S     | P(E,S)\n",
        "-----------------------\n",
        "True  | True  | 0.125\n",
        "True  | False | 0.6875\n",
        "False | True  | 0.0625\n",
        "False | False | 0.125\n"
       ]
      }
     ],
     "prompt_number": 8
    },
    {
     "cell_type": "code",
     "collapsed": false,
     "input": [
      "print(P.marginalize_out([E, S]))"
     ],
     "language": "python",
     "metadata": {},
     "outputs": [
      {
       "output_type": "stream",
       "stream": "stdout",
       "text": [
        "H     | P(H)\n",
        "-------------\n",
        "True  | 0.75\n",
        "False | 0.25\n"
       ]
      }
     ],
     "prompt_number": 9
    },
    {
     "cell_type": "code",
     "collapsed": false,
     "input": [
      "print(P.condition_on([H]))"
     ],
     "language": "python",
     "metadata": {},
     "outputs": [
      {
       "output_type": "stream",
       "stream": "stdout",
       "text": [
        "H     || E     | S     | P(E,S|H)\n",
        "----------------------------------\n",
        "True  || True  | True  | 0.166666666667\n",
        "True  || True  | False | 0.75\n",
        "True  || False | True  | 0.0\n",
        "True  || False | False | 0.0833333333333\n",
        "False || True  | True  | 0.0\n",
        "False || True  | False | 0.5\n",
        "False || False | True  | 0.25\n",
        "False || False | False | 0.25\n"
       ]
      }
     ],
     "prompt_number": 10
    },
    {
     "cell_type": "code",
     "collapsed": false,
     "input": [
      "print(P.condition([E], [H]))"
     ],
     "language": "python",
     "metadata": {},
     "outputs": [
      {
       "output_type": "stream",
       "stream": "stdout",
       "text": [
        "H     || E     | P(E|H)\n",
        "------------------------\n",
        "True  || True  | 0.916666666667\n",
        "True  || False | 0.0833333333333\n",
        "False || True  | 0.5\n",
        "False || False | 0.5\n"
       ]
      }
     ],
     "prompt_number": 11
    },
    {
     "cell_type": "markdown",
     "metadata": {},
     "source": [
      "Using these operations alone we can already answer quite a few queries. However, a much easier interface is provided that matches conventional writing. For example, to represent the marginal over $E$ given evidence $H=True$ and $S=False$ we often write $P(E\\mid h,\\bar{s})$. We can write this query exactly the same (appending an underscore in lieu of a bar) and get the marginal."
     ]
    },
    {
     "cell_type": "code",
     "collapsed": false,
     "input": [
      "P(E|h,s_)"
     ],
     "language": "python",
     "metadata": {},
     "outputs": [
      {
       "output_type": "pyout",
       "prompt_number": 12,
       "text": [
        "E     | P(E|S=False, H=True)\n",
        "-----------------------------\n",
        "True  | 0.9\n",
        "False | 0.1"
       ]
      }
     ],
     "prompt_number": 12
    },
    {
     "cell_type": "markdown",
     "metadata": {},
     "source": [
      "Specific probabilities such as $P(e\\mid h,\\bar{s})$ can also be written."
     ]
    },
    {
     "cell_type": "code",
     "collapsed": false,
     "input": [
      "P(e|h,s_)"
     ],
     "language": "python",
     "metadata": {},
     "outputs": [
      {
       "output_type": "pyout",
       "prompt_number": 13,
       "text": [
        "0.9"
       ]
      }
     ],
     "prompt_number": 13
    },
    {
     "cell_type": "markdown",
     "metadata": {},
     "source": [
      "Unconditioned marginals can also be found such as $P(E,S)$."
     ]
    },
    {
     "cell_type": "code",
     "collapsed": false,
     "input": [
      "P(E,S)"
     ],
     "language": "python",
     "metadata": {},
     "outputs": [
      {
       "output_type": "pyout",
       "prompt_number": 14,
       "text": [
        "E     | S     | P(E,S)\n",
        "-----------------------\n",
        "True  | True  | 0.125\n",
        "True  | False | 0.6875\n",
        "False | True  | 0.0625\n",
        "False | False | 0.125"
       ]
      }
     ],
     "prompt_number": 14
    },
    {
     "cell_type": "code",
     "collapsed": false,
     "input": [
      "P(e,s_)"
     ],
     "language": "python",
     "metadata": {},
     "outputs": [
      {
       "output_type": "pyout",
       "prompt_number": 15,
       "text": [
        "0.6875"
       ]
      }
     ],
     "prompt_number": 15
    },
    {
     "cell_type": "markdown",
     "metadata": {},
     "source": [
      "Note that those lower-case variables were defined in cell `[5]`. If they are not defined we can make assignments explicitly. For example, the below is equivalent to the above."
     ]
    },
    {
     "cell_type": "code",
     "collapsed": false,
     "input": [
      "P(E<<True, S<<False)"
     ],
     "language": "python",
     "metadata": {},
     "outputs": [
      {
       "output_type": "pyout",
       "prompt_number": 16,
       "text": [
        "0.6875"
       ]
      }
     ],
     "prompt_number": 16
    },
    {
     "cell_type": "markdown",
     "metadata": {},
     "source": [
      "Now we'll create a simple Bayesian network. To define the graph we need the variables that will act as nodes and the edges between the nodes. A directed edge can be specified using `<` and `>`."
     ]
    },
    {
     "cell_type": "code",
     "collapsed": false,
     "input": [
      "bn = BayesianNetwork(variables, [S < H, H > E])"
     ],
     "language": "python",
     "metadata": {},
     "outputs": [],
     "prompt_number": 17
    },
    {
     "cell_type": "markdown",
     "metadata": {},
     "source": [
      "If you're running this in an IPython Notebook you can view the graph using some slick `d3.js` (based on http://bl.ocks.org/mbostock/1153292)."
     ]
    },
    {
     "cell_type": "code",
     "collapsed": false,
     "input": [
      "bn.display(180, 180)"
     ],
     "language": "python",
     "metadata": {},
     "outputs": [
      {
       "html": [
        "<div id=\"probgraphdisplay33860\"></div>"
       ],
       "output_type": "display_data",
       "text": [
        "<IPython.core.display.HTML at 0x4046590>"
       ]
      },
      {
       "javascript": [
        "$(\"head\").append($(\"<link/>\").attr({\n",
        "  rel:  \"stylesheet\",\n",
        "  type: \"text/css\",\n",
        "  href: \"/files/graph_display.css\"\n",
        "}));\n",
        "$.getScript(\"http://d3js.org/d3.v3.min.js\", function () {\n",
        "var cellDivId=\"probgraphdisplay33860\";var links=[{source:\"H\",target:\"E\"},{source:\"H\",target:\"S\"},];var w=180,h=180;var nodes = {};\n",
        "\n",
        "// Compute the distinct nodes from the links.\n",
        "links.forEach(function(link) {\n",
        "  link.source = nodes[link.source] || (nodes[link.source] = {name: link.source});\n",
        "  link.target = nodes[link.target] || (nodes[link.target] = {name: link.target});\n",
        "});\n",
        "\n",
        "var force = d3.layout.force()\n",
        "    .nodes(d3.values(nodes))\n",
        "    .links(links)\n",
        "    .size([w, h])\n",
        "    .linkDistance(60)\n",
        "    .charge(-300)\n",
        "    .on(\"tick\", tick)\n",
        "    .start();\n",
        "\n",
        "var svg = d3.select(\"#\"+cellDivId).append(\"svg:svg\")\n",
        "    .attr(\"width\", w)\n",
        "    .attr(\"height\", h);\n",
        "\n",
        "// Per-type markers, as they don't inherit styles.\n",
        "svg.append(\"svg:defs\").selectAll(\"marker\")\n",
        "    .data([\"arrow\"])\n",
        "  .enter().append(\"svg:marker\")\n",
        "    .attr(\"id\", String)\n",
        "    .attr(\"viewBox\", \"0 -5 10 10\")\n",
        "    .attr(\"refX\", 18)\n",
        "    .attr(\"refY\", -1.5)\n",
        "    .attr(\"markerWidth\", 6)\n",
        "    .attr(\"markerHeight\", 6)\n",
        "    .attr(\"orient\", \"auto\")\n",
        "  .append(\"svg:path\")\n",
        "    .attr(\"d\", \"M0,-5L10,0L0,5\");\n",
        "\n",
        "var path = svg.append(\"svg:g\").selectAll(\"path\")\n",
        "    .data(force.links())\n",
        "  .enter().append(\"svg:path\")\n",
        "    .attr(\"class\", function(d) { return \"link\"; })\n",
        "    .attr(\"marker-end\", function(d) { return \"url(#arrow)\"; });\n",
        "\n",
        "var circle = svg.append(\"svg:g\").selectAll(\"circle\")\n",
        "    .data(force.nodes())\n",
        "  .enter().append(\"svg:circle\")\n",
        "    .attr(\"r\", 8)\n",
        "    .call(force.drag);\n",
        "\n",
        "var text = svg.append(\"svg:g\").selectAll(\"g\")\n",
        "    .data(force.nodes())\n",
        "  .enter().append(\"svg:g\");\n",
        "\n",
        "// A copy of the text with a thick white stroke for legibility.\n",
        "text.append(\"svg:text\")\n",
        "    .attr(\"x\", 10)\n",
        "    .attr(\"y\", \".31em\")\n",
        "    .attr(\"class\", \"shadow\")\n",
        "    .text(function(d) { return d.name; });\n",
        "\n",
        "text.append(\"svg:text\")\n",
        "    .attr(\"x\", 10)\n",
        "    .attr(\"y\", \".31em\")\n",
        "    .text(function(d) { return d.name; });\n",
        "\n",
        "// Use elliptical arc path segments to doubly-encode directionality.\n",
        "function tick() {\n",
        "  path.attr(\"d\", function(d) {\n",
        "    var dx = d.target.x - d.source.x,\n",
        "        dy = d.target.y - d.source.y,\n",
        "        dr = Math.sqrt(dx * dx + dy * dy)*2;\n",
        "    return \"M\" + d.source.x + \",\" + d.source.y + \"A\" + dr + \",\" + dr + \" 0 0,1 \" + d.target.x + \",\" + d.target.y;\n",
        "  });\n",
        "\n",
        "  circle.attr(\"transform\", function(d) {\n",
        "    return \"translate(\" + d.x + \",\" + d.y + \")\";\n",
        "  });\n",
        "\n",
        "  text.attr(\"transform\", function(d) {\n",
        "    return \"translate(\" + d.x + \",\" + d.y + \")\";\n",
        "  });\n",
        "}\n",
        "});\n"
       ],
       "output_type": "display_data",
       "text": [
        "<IPython.core.display.Javascript at 0x4046590>"
       ]
      },
      {
       "output_type": "pyout",
       "prompt_number": 18,
       "text": [
        "<probability.BayesianNetwork instance at 0x40511b8>"
       ]
      }
     ],
     "prompt_number": 18
    },
    {
     "cell_type": "markdown",
     "metadata": {},
     "source": [
      "Since the Javascript doesn't carry over nicely in the viewer here's a screenshot of the graph."
     ]
    },
    {
     "cell_type": "code",
     "collapsed": false,
     "input": [
      "from IPython.core.display import Image \n",
      "Image(filename='hse_graph.png') "
     ],
     "language": "python",
     "metadata": {},
     "outputs": [
      {
       "output_type": "pyout",
       "png": "[encoded data removed]",
       "prompt_number": 19,
       "text": [
        "<IPython.core.display.Image at 0x40463d0>"
       ]
      }
     ],
     "prompt_number": 19
    },
    {
     "cell_type": "markdown",
     "metadata": {},
     "source": [
      "At first our distribution is unparameterized. This means that the network is \"invalid\"."
     ]
    },
    {
     "cell_type": "code",
     "collapsed": false,
     "input": [
      "print(bn.is_valid)"
     ],
     "language": "python",
     "metadata": {},
     "outputs": [
      {
       "output_type": "stream",
       "stream": "stdout",
       "text": [
        "False\n"
       ]
      }
     ],
     "prompt_number": 20
    },
    {
     "cell_type": "markdown",
     "metadata": {},
     "source": [
      "We can parameterize it from the same data set."
     ]
    },
    {
     "cell_type": "code",
     "collapsed": false,
     "input": [
      "bn.learn_from_complete_data(data_header, data_samples)\n",
      "print(bn.is_valid)"
     ],
     "language": "python",
     "metadata": {},
     "outputs": [
      {
       "output_type": "stream",
       "stream": "stdout",
       "text": [
        "True\n"
       ]
      }
     ],
     "prompt_number": 21
    },
    {
     "cell_type": "markdown",
     "metadata": {},
     "source": [
      "Unfortunately I haven't written any of the Bayesian network inference algorithms yet (variable elimination, factor elimination, belief propagation, stochastic sampling, network polynomial, etc.) but for now we can turn it into a `JointTable` and use that for inference. Turning it into a `JointTable` is against the point of a Bayesian network (compact representation) but it will allow us to do inference for now."
     ]
    },
    {
     "cell_type": "code",
     "collapsed": false,
     "input": [
      "Pb = bn.as_joint_table()\n",
      "print(Pb)"
     ],
     "language": "python",
     "metadata": {},
     "outputs": [
      {
       "output_type": "stream",
       "stream": "stdout",
       "text": [
        "E     | S     | H     | P(E,S,H)\n",
        "---------------------------------\n",
        "True  | True  | True  | 0.114583333333\n",
        "True  | True  | False | 0.03125\n",
        "True  | False | True  | 0.572916666667\n",
        "True  | False | False | 0.09375\n",
        "False | True  | True  | 0.0104166666667\n",
        "False | True  | False | 0.03125\n",
        "False | False | True  | 0.0520833333333\n",
        "False | False | False | 0.09375\n"
       ]
      }
     ],
     "prompt_number": 22
    },
    {
     "cell_type": "markdown",
     "metadata": {},
     "source": [
      "You might notice that this joint table, although learned from the same data, is not the same as learning the `JointTable` directly from the data. This is due to the additional constraints on conditional independences imposed by the network structure of the Bayesian network."
     ]
    },
    {
     "cell_type": "code",
     "collapsed": false,
     "input": [
      "print(P)"
     ],
     "language": "python",
     "metadata": {},
     "outputs": [
      {
       "output_type": "stream",
       "stream": "stdout",
       "text": [
        "E     | S     | H     | P(E,S,H)\n",
        "---------------------------------\n",
        "True  | True  | True  | 0.125\n",
        "True  | True  | False | 0.0\n",
        "True  | False | True  | 0.5625\n",
        "True  | False | False | 0.125\n",
        "False | True  | True  | 0.0\n",
        "False | True  | False | 0.0625\n",
        "False | False | True  | 0.0625\n",
        "False | False | False | 0.0625\n"
       ]
      }
     ],
     "prompt_number": 23
    },
    {
     "cell_type": "markdown",
     "metadata": {},
     "source": [
      "Also note that this is in spite of the distributions sharing the same family marginals."
     ]
    },
    {
     "cell_type": "code",
     "collapsed": false,
     "input": [
      "print(P(H))\n",
      "print(Pb(H))"
     ],
     "language": "python",
     "metadata": {},
     "outputs": [
      {
       "output_type": "stream",
       "stream": "stdout",
       "text": [
        "H     | P(H)\n",
        "-------------\n",
        "True  | 0.75\n",
        "False | 0.25\n",
        "H     | P(H)\n",
        "-------------\n",
        "True  | 0.75\n",
        "False | 0.25\n"
       ]
      }
     ],
     "prompt_number": 24
    },
    {
     "cell_type": "code",
     "collapsed": false,
     "input": [
      "print(P(S|H))\n",
      "print(Pb(S|H))"
     ],
     "language": "python",
     "metadata": {},
     "outputs": [
      {
       "output_type": "stream",
       "stream": "stdout",
       "text": [
        "H     || S     | P(S|H)\n",
        "------------------------\n",
        "True  || True  | 0.166666666667\n",
        "True  || False | 0.833333333333\n",
        "False || True  | 0.25\n",
        "False || False | 0.75\n",
        "H     || S     | P(S|H)\n",
        "------------------------\n",
        "True  || True  | 0.166666666667\n",
        "True  || False | 0.833333333333\n",
        "False || True  | 0.25\n",
        "False || False | 0.75\n"
       ]
      }
     ],
     "prompt_number": 25
    },
    {
     "cell_type": "code",
     "collapsed": false,
     "input": [
      "print(P(E|H))\n",
      "print(Pb(E|H))"
     ],
     "language": "python",
     "metadata": {},
     "outputs": [
      {
       "output_type": "stream",
       "stream": "stdout",
       "text": [
        "H     || E     | P(E|H)\n",
        "------------------------\n",
        "True  || True  | 0.916666666667\n",
        "True  || False | 0.0833333333333\n",
        "False || True  | 0.5\n",
        "False || False | 0.5\n",
        "H     || E     | P(E|H)\n",
        "------------------------\n",
        "True  || True  | 0.916666666667\n",
        "True  || False | 0.0833333333333\n",
        "False || True  | 0.5\n",
        "False || False | 0.5\n"
       ]
      }
     ],
     "prompt_number": 26
    },
    {
     "cell_type": "markdown",
     "metadata": {},
     "source": [
      "In fact, we can see conditional independences in the Bayesian network. Using d-separation (and the Markovian assumption on families) we expect $E$ to be independent of $S$ given $H$. In other words, $P(E\\mid s,H)=P(E\\mid \\bar{s},H)$. In the conditional table below we see that the probabilities for $E$ do not change with respect to $S$ because $H$ is given."
     ]
    },
    {
     "cell_type": "code",
     "collapsed": false,
     "input": [
      "print(Pb(E|S,H))"
     ],
     "language": "python",
     "metadata": {},
     "outputs": [
      {
       "output_type": "stream",
       "stream": "stdout",
       "text": [
        "S     | H     || E     | P(E|S,H)\n",
        "----------------------------------\n",
        "True  | True  || True  | 0.916666666667\n",
        "True  | True  || False | 0.0833333333333\n",
        "True  | False || True  | 0.5\n",
        "True  | False || False | 0.5\n",
        "False | True  || True  | 0.916666666667\n",
        "False | True  || False | 0.0833333333333\n",
        "False | False || True  | 0.5\n",
        "False | False || False | 0.5\n"
       ]
      }
     ],
     "prompt_number": 27
    },
    {
     "cell_type": "code",
     "collapsed": false,
     "input": [
      "print(Pb(E|h,s))\n",
      "print(Pb(E|h,s_))"
     ],
     "language": "python",
     "metadata": {},
     "outputs": [
      {
       "output_type": "stream",
       "stream": "stdout",
       "text": [
        "E     | P(E|S=True, H=True)\n",
        "----------------------------\n",
        "True  | 0.916666666667\n",
        "False | 0.0833333333333\n",
        "E     | P(E|S=False, H=True)\n",
        "-----------------------------\n",
        "True  | 0.916666666667\n",
        "False | 0.0833333333333\n"
       ]
      }
     ],
     "prompt_number": 28
    },
    {
     "cell_type": "code",
     "collapsed": false,
     "input": [
      "print(Pb(E|h_,s))\n",
      "print(Pb(E|h_,s_))"
     ],
     "language": "python",
     "metadata": {},
     "outputs": [
      {
       "output_type": "stream",
       "stream": "stdout",
       "text": [
        "E     | P(E|S=True, H=False)\n",
        "-----------------------------\n",
        "True  | 0.5\n",
        "False | 0.5\n",
        "E     | P(E|S=False, H=False)\n",
        "------------------------------\n",
        "True  | 0.5\n",
        "False | 0.5\n"
       ]
      }
     ],
     "prompt_number": 29
    },
    {
     "cell_type": "markdown",
     "metadata": {},
     "source": [
      "However, we expect, due to lack of d-separation (open value through $H$), that $E$ is dependent on $S$. We see that this is the case in the conditional table below."
     ]
    },
    {
     "cell_type": "code",
     "collapsed": false,
     "input": [
      "print(Pb(E|S))"
     ],
     "language": "python",
     "metadata": {},
     "outputs": [
      {
       "output_type": "stream",
       "stream": "stdout",
       "text": [
        "S     || E     | P(E|S)\n",
        "------------------------\n",
        "True  || True  | 0.777777777778\n",
        "True  || False | 0.222222222222\n",
        "False || True  | 0.820512820513\n",
        "False || False | 0.179487179487\n"
       ]
      }
     ],
     "prompt_number": 30
    },
    {
     "cell_type": "markdown",
     "metadata": {},
     "source": [
      "Also note the lack of these conditional independences in the original `JointTable`."
     ]
    },
    {
     "cell_type": "code",
     "collapsed": false,
     "input": [
      "print(P(E|S,H))"
     ],
     "language": "python",
     "metadata": {},
     "outputs": [
      {
       "output_type": "stream",
       "stream": "stdout",
       "text": [
        "S     | H     || E     | P(E|S,H)\n",
        "----------------------------------\n",
        "True  | True  || True  | 1.0\n",
        "True  | True  || False | 0.0\n",
        "True  | False || True  | 0.0\n",
        "True  | False || False | 1.0\n",
        "False | True  || True  | 0.9\n",
        "False | True  || False | 0.1\n",
        "False | False || True  | 0.666666666667\n",
        "False | False || False | 0.333333333333\n"
       ]
      }
     ],
     "prompt_number": 31
    },
    {
     "cell_type": "markdown",
     "metadata": {},
     "source": [
      "Again, the Bayesian network imposes conditional independence constraints on the distribution. Specifically this conditional independence arises from the *lack* of an edge between $S$ and $E$. If we were to represent the original distribution as a Bayesian network the resulting structure would be a complete graph (all nodes connected to all other nodes)."
     ]
    },
    {
     "cell_type": "code",
     "collapsed": false,
     "input": [],
     "language": "python",
     "metadata": {},
     "outputs": [],
     "prompt_number": 31
    }
   ],
   "metadata": {}
  }
 ]
}