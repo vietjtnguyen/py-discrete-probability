{
 "metadata": {
  "name": "bn_test"
 },
 "nbformat": 3,
 "nbformat_minor": 0,
 "worksheets": [
  {
   "cells": [
    {
     "cell_type": "code",
     "collapsed": false,
     "input": [
      "from probability import *"
     ],
     "language": "python",
     "metadata": {},
     "outputs": [],
     "prompt_number": 2
    },
    {
     "cell_type": "markdown",
     "metadata": {},
     "source": [
      "Let's start with a simple three variable Bayesian network. First we need to define our variables."
     ]
    },
    {
     "cell_type": "code",
     "collapsed": false,
     "input": [
      "E, H, S = variables = map(Variable, 'EHS')\n",
      "# equivalent to E, H, S = variables = Variable('E'), ..."
     ],
     "language": "python",
     "metadata": {},
     "outputs": [],
     "prompt_number": 6
    },
    {
     "cell_type": "markdown",
     "metadata": {},
     "source": [
      "By default the values a variable can take are `True` and `False`. An `Assignment` represents a variable taking on one of its values and can be made using the `<<` operator."
     ]
    },
    {
     "cell_type": "code",
     "collapsed": false,
     "input": [
      "e, e_ = E.get_assignments()\n",
      "h, h_ = H.get_assignments()\n",
      "s, s_ = S.get_assignments()"
     ],
     "language": "python",
     "metadata": {},
     "outputs": []
    },
    {
     "cell_type": "code",
     "collapsed": false,
     "input": [
      "print(E)\n",
      "print(e)\n",
      "print(e_)"
     ],
     "language": "python",
     "metadata": {},
     "outputs": [
      {
       "output_type": "stream",
       "stream": "stdout",
       "text": [
        "E\n",
        "E=True\n",
        "E=False\n"
       ]
      }
     ],
     "prompt_number": 4
    },
    {
     "cell_type": "code",
     "collapsed": false,
     "input": [
      "data_header = [H, S, E]\n",
      "data = [\n",
      "    [True, False, True],\n",
      "    [True, False, True],\n",
      "    [False, True, False],\n",
      "    [False, False, True],\n",
      "    [True, False, False],\n",
      "    [True, False, True],\n",
      "    [False, False, False],\n",
      "    [True, False, True],\n",
      "    [True, False, True],\n",
      "    [False, False, True],\n",
      "    [True, False, True],\n",
      "    [True, True, True],\n",
      "    [True, False, True],\n",
      "    [True, True, True],\n",
      "    [True, False, True],\n",
      "    [True, False, True]]"
     ],
     "language": "python",
     "metadata": {},
     "outputs": []
    },
    {
     "cell_type": "code",
     "collapsed": false,
     "input": [
      "A, B, C, D, E, F = variables = map(Variable, 'ABCDEF')\n",
      "a, a_ = A.get_assignments()\n",
      "b, b_ = B.get_assignments()\n",
      "c, c_ = C.get_assignments()\n",
      "d, d_ = D.get_assignments()\n",
      "e, e_ = E.get_assignments()\n",
      "f, f_ = F.get_assignments()\n",
      "bn = BayesianNetwork(variables, [D<F,A>D,A>E,B>A,F>C,D>E,F>B]).randomize()\n",
      "bn.display(320,240)\n",
      "P = bn.as_joint_table()"
     ],
     "language": "python",
     "metadata": {},
     "outputs": [
      {
       "html": [
        "<div id=\"probgraphdisplay13586\"></div>"
       ],
       "output_type": "display_data",
       "text": [
        "<IPython.core.display.HTML at 0x3d2da90>"
       ]
      },
      {
       "javascript": [
        "$(\"head\").append($(\"<link/>\").attr({\n",
        "  rel:  \"stylesheet\",\n",
        "  type: \"text/css\",\n",
        "  href: \"/files/graph_display.css\"\n",
        "}));\n",
        "$.getScript(\"http://d3js.org/d3.v3.min.js\", function () {\n",
        "var cellDivId=\"probgraphdisplay13586\";var links=[{source:\"A\",target:\"E\"},{source:\"F\",target:\"C\"},{source:\"B\",target:\"A\"},{source:\"F\",target:\"B\"},{source:\"F\",target:\"D\"},{source:\"D\",target:\"E\"},{source:\"A\",target:\"D\"},];var w=320,h=240;var nodes = {};\n",
        "\n",
        "// Compute the distinct nodes from the links.\n",
        "links.forEach(function(link) {\n",
        "  link.source = nodes[link.source] || (nodes[link.source] = {name: link.source});\n",
        "  link.target = nodes[link.target] || (nodes[link.target] = {name: link.target});\n",
        "});\n",
        "\n",
        "var force = d3.layout.force()\n",
        "    .nodes(d3.values(nodes))\n",
        "    .links(links)\n",
        "    .size([w, h])\n",
        "    .linkDistance(60)\n",
        "    .charge(-300)\n",
        "    .on(\"tick\", tick)\n",
        "    .start();\n",
        "\n",
        "var svg = d3.select(\"#\"+cellDivId).append(\"svg:svg\")\n",
        "    .attr(\"width\", w)\n",
        "    .attr(\"height\", h);\n",
        "\n",
        "// Per-type markers, as they don't inherit styles.\n",
        "svg.append(\"svg:defs\").selectAll(\"marker\")\n",
        "    .data([\"arrow\"])\n",
        "  .enter().append(\"svg:marker\")\n",
        "    .attr(\"id\", String)\n",
        "    .attr(\"viewBox\", \"0 -5 10 10\")\n",
        "    .attr(\"refX\", 18)\n",
        "    .attr(\"refY\", -1.5)\n",
        "    .attr(\"markerWidth\", 6)\n",
        "    .attr(\"markerHeight\", 6)\n",
        "    .attr(\"orient\", \"auto\")\n",
        "  .append(\"svg:path\")\n",
        "    .attr(\"d\", \"M0,-5L10,0L0,5\");\n",
        "\n",
        "var path = svg.append(\"svg:g\").selectAll(\"path\")\n",
        "    .data(force.links())\n",
        "  .enter().append(\"svg:path\")\n",
        "    .attr(\"class\", function(d) { return \"link\"; })\n",
        "    .attr(\"marker-end\", function(d) { return \"url(#arrow)\"; });\n",
        "\n",
        "var circle = svg.append(\"svg:g\").selectAll(\"circle\")\n",
        "    .data(force.nodes())\n",
        "  .enter().append(\"svg:circle\")\n",
        "    .attr(\"r\", 8)\n",
        "    .call(force.drag);\n",
        "\n",
        "var text = svg.append(\"svg:g\").selectAll(\"g\")\n",
        "    .data(force.nodes())\n",
        "  .enter().append(\"svg:g\");\n",
        "\n",
        "// A copy of the text with a thick white stroke for legibility.\n",
        "text.append(\"svg:text\")\n",
        "    .attr(\"x\", 10)\n",
        "    .attr(\"y\", \".31em\")\n",
        "    .attr(\"class\", \"shadow\")\n",
        "    .text(function(d) { return d.name; });\n",
        "\n",
        "text.append(\"svg:text\")\n",
        "    .attr(\"x\", 10)\n",
        "    .attr(\"y\", \".31em\")\n",
        "    .text(function(d) { return d.name; });\n",
        "\n",
        "// Use elliptical arc path segments to doubly-encode directionality.\n",
        "function tick() {\n",
        "  path.attr(\"d\", function(d) {\n",
        "    var dx = d.target.x - d.source.x,\n",
        "        dy = d.target.y - d.source.y,\n",
        "        dr = Math.sqrt(dx * dx + dy * dy)*2;\n",
        "    return \"M\" + d.source.x + \",\" + d.source.y + \"A\" + dr + \",\" + dr + \" 0 0,1 \" + d.target.x + \",\" + d.target.y;\n",
        "  });\n",
        "\n",
        "  circle.attr(\"transform\", function(d) {\n",
        "    return \"translate(\" + d.x + \",\" + d.y + \")\";\n",
        "  });\n",
        "\n",
        "  text.attr(\"transform\", function(d) {\n",
        "    return \"translate(\" + d.x + \",\" + d.y + \")\";\n",
        "  });\n",
        "}\n",
        "});\n"
       ],
       "output_type": "display_data",
       "text": [
        "<IPython.core.display.Javascript at 0x3d2da90>"
       ]
      }
     ],
     "prompt_number": 2
    },
    {
     "cell_type": "code",
     "collapsed": false,
     "input": [
      "P(A,B,C,D,E|f)"
     ],
     "language": "python",
     "metadata": {},
     "outputs": [
      {
       "output_type": "pyout",
       "prompt_number": 3,
       "text": [
        "C     | E     | A     | D     | B     | P(C,E,A,D,B|F=True)\n",
        "------------------------------------------------------------\n",
        "True  | True  | True  | True  | True  | 0.000284662620534\n",
        "True  | True  | True  | True  | False | 0.00258320175548\n",
        "True  | True  | True  | False | True  | 0.00239122729227\n",
        "True  | True  | True  | False | False | 0.021699450836\n",
        "True  | True  | False | True  | True  | 0.00180432079731\n",
        "True  | True  | False | True  | False | 0.000496172781119\n",
        "True  | True  | False | False | True  | 0.0253784613649\n",
        "True  | True  | False | False | False | 0.00697885973197\n",
        "True  | False | True  | True  | True  | 0.00124159996837\n",
        "True  | False | True  | True  | False | 0.0112670332757\n",
        "True  | False | True  | False | True  | 0.000912184492317\n",
        "True  | False | True  | False | False | 0.00827771688974\n",
        "True  | False | False | True  | True  | 0.00125056909458\n",
        "True  | False | False | True  | False | 0.000343895800881\n",
        "True  | False | False | False | True  | 0.0313558742028\n",
        "True  | False | False | False | False | 0.00862259711842\n",
        "False | True  | True  | True  | True  | 0.00199468377408\n",
        "False | True  | True  | True  | False | 0.0181009737673\n",
        "False | True  | True  | False | True  | 0.0167557731011\n",
        "False | True  | True  | False | False | 0.152052076271\n",
        "False | True  | False | True  | True  | 0.0126432104464\n",
        "False | True  | False | True  | False | 0.00347677469483\n",
        "False | True  | False | False | True  | 0.177831585337\n",
        "False | True  | False | False | False | 0.0489021644037\n",
        "False | False | True  | True  | True  | 0.00870012123882\n",
        "False | False | True  | True  | False | 0.0789501916859\n",
        "False | False | True  | False | True  | 0.00639184590649\n",
        "False | False | True  | False | False | 0.0580034973872\n",
        "False | False | False | True  | True  | 0.00876296956953\n",
        "False | False | False | True  | False | 0.00240974165384\n",
        "False | False | False | False | True  | 0.219716425631\n",
        "False | False | False | False | False | 0.0604201371092"
       ]
      }
     ],
     "prompt_number": 3
    },
    {
     "cell_type": "code",
     "collapsed": false,
     "input": [
      "Pb = JointTable([A, B, C])\n",
      "print(Pb)"
     ],
     "language": "python",
     "metadata": {},
     "outputs": [
      {
       "output_type": "stream",
       "stream": "stdout",
       "text": [
        "C     | A     | B     | P(C,A,B)\n",
        "---------------------------------\n",
        "True  | True  | True  | None\n",
        "True  | True  | False | None\n",
        "True  | False | True  | None\n",
        "True  | False | False | None\n",
        "False | True  | True  | None\n",
        "False | True  | False | None\n",
        "False | False | True  | None\n",
        "False | False | False | None\n"
       ]
      }
     ],
     "prompt_number": 4
    },
    {
     "cell_type": "code",
     "collapsed": false,
     "input": [
      "Pb[a ,b ,c ] = 0.1\n",
      "Pb[a ,b ,c_] = 0.15\n",
      "Pb[a ,b_,c ] = 0.13\n",
      "Pb[a ,b_,c_] = 0.1\n",
      "Pb[a_,b ,c ] = 0.05\n",
      "Pb[a_,b ,c_] = 0.17\n",
      "Pb[a_,b_,c ] = 0.2\n",
      "Pb[a_,b_,c_] = 0.1\n",
      "print(Pb.is_valid)"
     ],
     "language": "python",
     "metadata": {},
     "outputs": [
      {
       "output_type": "stream",
       "stream": "stdout",
       "text": [
        "True\n"
       ]
      }
     ],
     "prompt_number": 8
    },
    {
     "cell_type": "code",
     "collapsed": false,
     "input": [
      "print(Pb)"
     ],
     "language": "python",
     "metadata": {},
     "outputs": [
      {
       "output_type": "stream",
       "stream": "stdout",
       "text": [
        "C     | A     | B     | P(C,A,B)\n",
        "---------------------------------\n",
        "True  | True  | True  | 0.1\n",
        "True  | True  | False | 0.13\n",
        "True  | False | True  | 0.05\n",
        "True  | False | False | 0.2\n",
        "False | True  | True  | 0.15\n",
        "False | True  | False | 0.1\n",
        "False | False | True  | 0.17\n",
        "False | False | False | 0.1\n"
       ]
      }
     ],
     "prompt_number": 9
    },
    {
     "cell_type": "code",
     "collapsed": false,
     "input": [
      "Pb(A,B|C)"
     ],
     "language": "python",
     "metadata": {},
     "outputs": [
      {
       "output_type": "pyout",
       "prompt_number": 10,
       "text": [
        "C     || A     | B     | P(A,B|C)\n",
        "----------------------------------\n",
        "True  || True  | True  | 0.208333333333\n",
        "True  || True  | False | 0.270833333333\n",
        "True  || False | True  | 0.104166666667\n",
        "True  || False | False | 0.416666666667\n",
        "False || True  | True  | 0.288461538462\n",
        "False || True  | False | 0.192307692308\n",
        "False || False | True  | 0.326923076923\n",
        "False || False | False | 0.192307692308"
       ]
      }
     ],
     "prompt_number": 10
    },
    {
     "cell_type": "code",
     "collapsed": false,
     "input": [
      "Pb(C)"
     ],
     "language": "python",
     "metadata": {},
     "outputs": [
      {
       "output_type": "pyout",
       "prompt_number": 11,
       "text": [
        "C     | P(C)\n",
        "-------------\n",
        "True  | 0.48\n",
        "False | 0.52"
       ]
      }
     ],
     "prompt_number": 11
    },
    {
     "cell_type": "code",
     "collapsed": false,
     "input": [],
     "language": "python",
     "metadata": {},
     "outputs": []
    }
   ],
   "metadata": {}
  }
 ]
}