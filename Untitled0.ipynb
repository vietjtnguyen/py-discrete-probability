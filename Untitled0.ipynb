{
 "metadata": {
  "name": "Untitled0"
 },
 "nbformat": 3,
 "nbformat_minor": 0,
 "worksheets": [
  {
   "cells": [
    {
     "cell_type": "code",
     "collapsed": false,
     "input": [
      "from probability import *"
     ],
     "language": "python",
     "metadata": {},
     "outputs": [],
     "prompt_number": 1
    },
    {
     "cell_type": "code",
     "collapsed": false,
     "input": [
      "A, B, C, D, E, F = variables = map(Variable, 'ABCDEF')\n",
      "a, a_ = A.get_assignments()\n",
      "b, b_ = B.get_assignments()\n",
      "c, c_ = C.get_assignments()\n",
      "d, d_ = D.get_assignments()\n",
      "e, e_ = E.get_assignments()\n",
      "f, f_ = F.get_assignments()\n",
      "bn = BayesianNetwork(variables, [D<F,A>D,A>E,B>A,F>C]).randomize()\n",
      "bn.display(320,240)\n",
      "P = bn.as_joint_table()"
     ],
     "language": "python",
     "metadata": {},
     "outputs": [
      {
       "html": [
        "<div id=\"probgraphdisplay57422\"></div>"
       ],
       "output_type": "display_data",
       "text": [
        "<IPython.core.display.HTML at 0x23612d0>"
       ]
      },
      {
       "javascript": [
        "$(\"head\").append($(\"<link/>\").attr({\n",
        "  rel:  \"stylesheet\",\n",
        "  type: \"text/css\",\n",
        "  href: \"/files/graph_display.css\"\n",
        "}));\n",
        "$.getScript(\"http://d3js.org/d3.v3.min.js\", function () {\n",
        "var cellDivId=\"probgraphdisplay57422\";var links=[{source:\"B\",target:\"A\"},{source:\"F\",target:\"D\"},{source:\"F\",target:\"C\"},{source:\"A\",target:\"E\"},{source:\"A\",target:\"D\"},];var w=320,h=240;var nodes = {};\n",
        "\n",
        "// Compute the distinct nodes from the links.\n",
        "links.forEach(function(link) {\n",
        "  link.source = nodes[link.source] || (nodes[link.source] = {name: link.source});\n",
        "  link.target = nodes[link.target] || (nodes[link.target] = {name: link.target});\n",
        "});\n",
        "\n",
        "var force = d3.layout.force()\n",
        "    .nodes(d3.values(nodes))\n",
        "    .links(links)\n",
        "    .size([w, h])\n",
        "    .linkDistance(60)\n",
        "    .charge(-300)\n",
        "    .on(\"tick\", tick)\n",
        "    .start();\n",
        "\n",
        "var svg = d3.select(\"#\"+cellDivId).append(\"svg:svg\")\n",
        "    .attr(\"width\", w)\n",
        "    .attr(\"height\", h);\n",
        "\n",
        "// Per-type markers, as they don't inherit styles.\n",
        "svg.append(\"svg:defs\").selectAll(\"marker\")\n",
        "    .data([\"arrow\"])\n",
        "  .enter().append(\"svg:marker\")\n",
        "    .attr(\"id\", String)\n",
        "    .attr(\"viewBox\", \"0 -5 10 10\")\n",
        "    .attr(\"refX\", 18)\n",
        "    .attr(\"refY\", -1.5)\n",
        "    .attr(\"markerWidth\", 6)\n",
        "    .attr(\"markerHeight\", 6)\n",
        "    .attr(\"orient\", \"auto\")\n",
        "  .append(\"svg:path\")\n",
        "    .attr(\"d\", \"M0,-5L10,0L0,5\");\n",
        "\n",
        "var path = svg.append(\"svg:g\").selectAll(\"path\")\n",
        "    .data(force.links())\n",
        "  .enter().append(\"svg:path\")\n",
        "    .attr(\"class\", function(d) { return \"link\"; })\n",
        "    .attr(\"marker-end\", function(d) { return \"url(#arrow)\"; });\n",
        "\n",
        "var circle = svg.append(\"svg:g\").selectAll(\"circle\")\n",
        "    .data(force.nodes())\n",
        "  .enter().append(\"svg:circle\")\n",
        "    .attr(\"r\", 8)\n",
        "    .call(force.drag);\n",
        "\n",
        "var text = svg.append(\"svg:g\").selectAll(\"g\")\n",
        "    .data(force.nodes())\n",
        "  .enter().append(\"svg:g\");\n",
        "\n",
        "// A copy of the text with a thick white stroke for legibility.\n",
        "text.append(\"svg:text\")\n",
        "    .attr(\"x\", 10)\n",
        "    .attr(\"y\", \".31em\")\n",
        "    .attr(\"class\", \"shadow\")\n",
        "    .text(function(d) { return d.name; });\n",
        "\n",
        "text.append(\"svg:text\")\n",
        "    .attr(\"x\", 10)\n",
        "    .attr(\"y\", \".31em\")\n",
        "    .text(function(d) { return d.name; });\n",
        "\n",
        "// Use elliptical arc path segments to doubly-encode directionality.\n",
        "function tick() {\n",
        "  path.attr(\"d\", function(d) {\n",
        "    var dx = d.target.x - d.source.x,\n",
        "        dy = d.target.y - d.source.y,\n",
        "        dr = Math.sqrt(dx * dx + dy * dy)*2;\n",
        "    return \"M\" + d.source.x + \",\" + d.source.y + \"A\" + dr + \",\" + dr + \" 0 0,1 \" + d.target.x + \",\" + d.target.y;\n",
        "  });\n",
        "\n",
        "  circle.attr(\"transform\", function(d) {\n",
        "    return \"translate(\" + d.x + \",\" + d.y + \")\";\n",
        "  });\n",
        "\n",
        "  text.attr(\"transform\", function(d) {\n",
        "    return \"translate(\" + d.x + \",\" + d.y + \")\";\n",
        "  });\n",
        "}\n",
        "});\n"
       ],
       "output_type": "display_data",
       "text": [
        "<IPython.core.display.Javascript at 0x23612d0>"
       ]
      }
     ],
     "prompt_number": 7
    },
    {
     "cell_type": "code",
     "collapsed": false,
     "input": [
      "print(P(f))\n",
      "print(P(f|a))\n",
      "print(P(f|a,d_))\n",
      "print(P(f_))\n",
      "print(P(f_|a))\n",
      "print(P(f_|a,d_))"
     ],
     "language": "python",
     "metadata": {},
     "outputs": [
      {
       "output_type": "stream",
       "stream": "stdout",
       "text": [
        "0.640415636091\n",
        "0.640415636091\n",
        "0.516488464048\n",
        "0.359584363909\n",
        "0.359584363909\n",
        "0.483511535952\n"
       ]
      }
     ],
     "prompt_number": 11
    },
    {
     "cell_type": "code",
     "collapsed": false,
     "input": [
      "P(A,B,C)"
     ],
     "language": "python",
     "metadata": {},
     "outputs": [
      {
       "output_type": "pyout",
       "prompt_number": 12,
       "text": [
        "C     | B     | A     | P(C,B,A)\n",
        "---------------------------------\n",
        "True  | True  | True  | 0.515545529017\n",
        "True  | True  | False | 0.159873053956\n",
        "True  | False | True  | 0.00980931994866\n",
        "True  | False | False | 0.0501407510953\n",
        "False | True  | True  | 0.18552532327\n",
        "False | True  | False | 0.057532261164\n",
        "False | False | True  | 0.0035300029815\n",
        "False | False | False | 0.0180437585671"
       ]
      }
     ],
     "prompt_number": 12
    },
    {
     "cell_type": "code",
     "collapsed": false,
     "input": [
      "P(A|B,C,D,E,F)"
     ],
     "language": "python",
     "metadata": {},
     "outputs": [
      {
       "output_type": "pyout",
       "prompt_number": 14,
       "text": [
        "E     | D     | F     | C     | B     || A     | P(A|E,D,F,C,B)\n",
        "----------------------------------------------------------------\n",
        "True  | True  | True  | True  | True  || True  | 0.911376557129\n",
        "True  | True  | True  | True  | True  || False | 0.0886234428711\n",
        "True  | True  | True  | True  | False || True  | 0.384193392337\n",
        "True  | True  | True  | True  | False || False | 0.615806607663\n",
        "True  | True  | True  | False | True  || True  | 0.911376557129\n",
        "True  | True  | True  | False | True  || False | 0.0886234428711\n",
        "True  | True  | True  | False | False || True  | 0.384193392337\n",
        "True  | True  | True  | False | False || False | 0.615806607663\n",
        "True  | True  | False | True  | True  || True  | 0.890235304083\n",
        "True  | True  | False | True  | True  || False | 0.109764695917\n",
        "True  | True  | False | True  | False || True  | 0.329775681904\n",
        "True  | True  | False | True  | False || False | 0.670224318096\n",
        "True  | True  | False | False | True  || True  | 0.890235304083\n",
        "True  | True  | False | False | True  || False | 0.109764695917\n",
        "True  | True  | False | False | False || True  | 0.329775681904\n",
        "True  | True  | False | False | False || False | 0.670224318096\n",
        "True  | False | True  | True  | True  || True  | 0.506735262502\n",
        "True  | False | True  | True  | True  || False | 0.493264737498\n",
        "True  | False | True  | True  | False || True  | 0.0586678610544\n",
        "True  | False | True  | True  | False || False | 0.941332138946\n",
        "True  | False | True  | False | True  || True  | 0.506735262502\n",
        "True  | False | True  | False | True  || False | 0.493264737498\n",
        "True  | False | True  | False | False || True  | 0.0586678610544\n",
        "True  | False | True  | False | False || False | 0.941332138946\n",
        "True  | False | False | True  | True  || True  | 0.676759019432\n",
        "True  | False | False | True  | True  || False | 0.323240980568\n",
        "True  | False | False | True  | False || True  | 0.112702420798\n",
        "True  | False | False | True  | False || False | 0.887297579202\n",
        "True  | False | False | False | True  || True  | 0.676759019432\n",
        "True  | False | False | False | True  || False | 0.323240980568\n",
        "True  | False | False | False | False || True  | 0.112702420798\n",
        "True  | False | False | False | False || False | 0.887297579202\n",
        "False | True  | True  | True  | True  || True  | 0.763473147357\n",
        "False | True  | True  | True  | True  || False | 0.236526852643\n",
        "False | True  | True  | True  | False || True  | 0.163757708462\n",
        "False | True  | True  | True  | False || False | 0.836242291538\n",
        "False | True  | True  | False | True  || True  | 0.763473147357\n",
        "False | True  | True  | False | True  || False | 0.236526852643\n",
        "False | True  | True  | False | False || True  | 0.163757708462\n",
        "False | True  | True  | False | False || False | 0.836242291538\n",
        "False | True  | False | True  | True  || True  | 0.717967772427\n",
        "False | True  | False | True  | True  || False | 0.282032227573\n",
        "False | True  | False | True  | False || True  | 0.133779877008\n",
        "False | True  | False | True  | False || False | 0.866220122992\n",
        "False | True  | False | False | True  || True  | 0.717967772427\n",
        "False | True  | False | False | True  || False | 0.282032227573\n",
        "False | True  | False | False | False || True  | 0.133779877008\n",
        "False | True  | False | False | False || False | 0.866220122992\n",
        "False | False | True  | True  | True  || True  | 0.243828913212\n",
        "False | False | True  | True  | True  || False | 0.756171086788\n",
        "False | False | True  | True  | False || True  | 0.0191870253219\n",
        "False | False | True  | True  | False || False | 0.980812974678\n",
        "False | False | True  | False | True  || True  | 0.243828913212\n",
        "False | False | True  | False | True  || False | 0.756171086788\n",
        "False | False | True  | False | False || True  | 0.0191870253219\n",
        "False | False | True  | False | False || False | 0.980812974678\n",
        "False | False | False | True  | True  || True  | 0.396558294106\n",
        "False | False | False | True  | True  || False | 0.603441705894\n",
        "False | False | False | True  | False || True  | 0.0383397851927\n",
        "False | False | False | True  | False || False | 0.961660214807\n",
        "False | False | False | False | True  || True  | 0.396558294106\n",
        "False | False | False | False | True  || False | 0.603441705894\n",
        "False | False | False | False | False || True  | 0.0383397851927\n",
        "False | False | False | False | False || False | 0.961660214807"
       ]
      }
     ],
     "prompt_number": 14
    },
    {
     "cell_type": "code",
     "collapsed": false,
     "input": [],
     "language": "python",
     "metadata": {},
     "outputs": []
    }
   ],
   "metadata": {}
  }
 ]
}