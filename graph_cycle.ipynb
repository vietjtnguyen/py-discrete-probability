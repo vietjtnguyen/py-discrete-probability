{
 "metadata": {
  "name": "graph_cycle"
 },
 "nbformat": 3,
 "nbformat_minor": 0,
 "worksheets": [
  {
   "cells": [
    {
     "cell_type": "code",
     "collapsed": false,
     "input": [
      "from discrete_probability import *"
     ],
     "language": "python",
     "metadata": {},
     "outputs": [],
     "prompt_number": 1
    },
    {
     "cell_type": "code",
     "collapsed": false,
     "input": [
      "A,B,C,D,E,F,G,H = map(Variable, 'ABCDEFGH')"
     ],
     "language": "python",
     "metadata": {},
     "outputs": [],
     "prompt_number": 8
    },
    {
     "cell_type": "code",
     "collapsed": false,
     "input": [
      "BayesianNetwork([A,B,C,D,E,F,G,H], [A>B,B>C,C>D,D>E,E>F,F>G,G>H]).display().order"
     ],
     "language": "python",
     "metadata": {},
     "outputs": [
      {
       "html": [
        "<div id=\"probgraphdisplay26640\"></div>"
       ],
       "output_type": "display_data",
       "text": [
        "<IPython.core.display.HTML at 0x2b85810>"
       ]
      },
      {
       "javascript": [
        "$(\"head\").append($(\"<link/>\").attr({\n",
        "  rel:  \"stylesheet\",\n",
        "  type: \"text/css\",\n",
        "  href: \"/files/graph_display.css\"\n",
        "}));\n",
        "$.getScript(\"http://d3js.org/d3.v3.min.js\", function () {\n",
        "var cellDivId=\"probgraphdisplay26640\";var links=[{source:\"B\",target:\"C\"},{source:\"C\",target:\"D\"},{source:\"E\",target:\"F\"},{source:\"A\",target:\"B\"},{source:\"F\",target:\"G\"},{source:\"D\",target:\"E\"},{source:\"G\",target:\"H\"},];var w=640,h=480;var nodes = {};\n",
        "\n",
        "// Compute the distinct nodes from the links.\n",
        "links.forEach(function(link) {\n",
        "  link.source = nodes[link.source] || (nodes[link.source] = {name: link.source});\n",
        "  link.target = nodes[link.target] || (nodes[link.target] = {name: link.target});\n",
        "});\n",
        "\n",
        "var force = d3.layout.force()\n",
        "    .nodes(d3.values(nodes))\n",
        "    .links(links)\n",
        "    .size([w, h])\n",
        "    .linkDistance(60)\n",
        "    .charge(-300)\n",
        "    .on(\"tick\", tick)\n",
        "    .start();\n",
        "\n",
        "var svg = d3.select(\"#\"+cellDivId).append(\"svg:svg\")\n",
        "    .attr(\"width\", w)\n",
        "    .attr(\"height\", h);\n",
        "\n",
        "// Per-type markers, as they don't inherit styles.\n",
        "svg.append(\"svg:defs\").selectAll(\"marker\")\n",
        "    .data([\"arrow\"])\n",
        "  .enter().append(\"svg:marker\")\n",
        "    .attr(\"id\", String)\n",
        "    .attr(\"viewBox\", \"0 -5 10 10\")\n",
        "    .attr(\"refX\", 18)\n",
        "    .attr(\"refY\", -1.5)\n",
        "    .attr(\"markerWidth\", 6)\n",
        "    .attr(\"markerHeight\", 6)\n",
        "    .attr(\"orient\", \"auto\")\n",
        "  .append(\"svg:path\")\n",
        "    .attr(\"d\", \"M0,-5L10,0L0,5\");\n",
        "\n",
        "var path = svg.append(\"svg:g\").selectAll(\"path\")\n",
        "    .data(force.links())\n",
        "  .enter().append(\"svg:path\")\n",
        "    .attr(\"class\", function(d) { return \"link\"; })\n",
        "    .attr(\"marker-end\", function(d) { return \"url(#arrow)\"; });\n",
        "\n",
        "var circle = svg.append(\"svg:g\").selectAll(\"circle\")\n",
        "    .data(force.nodes())\n",
        "  .enter().append(\"svg:circle\")\n",
        "    .attr(\"r\", 8)\n",
        "    .call(force.drag);\n",
        "\n",
        "var text = svg.append(\"svg:g\").selectAll(\"g\")\n",
        "    .data(force.nodes())\n",
        "  .enter().append(\"svg:g\");\n",
        "\n",
        "// A copy of the text with a thick white stroke for legibility.\n",
        "text.append(\"svg:text\")\n",
        "    .attr(\"x\", 10)\n",
        "    .attr(\"y\", \".31em\")\n",
        "    .attr(\"class\", \"shadow\")\n",
        "    .text(function(d) { return d.name; });\n",
        "\n",
        "text.append(\"svg:text\")\n",
        "    .attr(\"x\", 10)\n",
        "    .attr(\"y\", \".31em\")\n",
        "    .text(function(d) { return d.name; });\n",
        "\n",
        "// Use elliptical arc path segments to doubly-encode directionality.\n",
        "function tick() {\n",
        "  path.attr(\"d\", function(d) {\n",
        "    var dx = d.target.x - d.source.x,\n",
        "        dy = d.target.y - d.source.y,\n",
        "        dr = Math.sqrt(dx * dx + dy * dy)*2;\n",
        "    return \"M\" + d.source.x + \",\" + d.source.y + \"A\" + dr + \",\" + dr + \" 0 0,1 \" + d.target.x + \",\" + d.target.y;\n",
        "  });\n",
        "\n",
        "  circle.attr(\"transform\", function(d) {\n",
        "    return \"translate(\" + d.x + \",\" + d.y + \")\";\n",
        "  });\n",
        "\n",
        "  text.attr(\"transform\", function(d) {\n",
        "    return \"translate(\" + d.x + \",\" + d.y + \")\";\n",
        "  });\n",
        "}\n",
        "});\n"
       ],
       "output_type": "display_data",
       "text": [
        "<IPython.core.display.Javascript at 0x2b85810>"
       ]
      },
      {
       "output_type": "pyout",
       "prompt_number": 9,
       "text": [
        "[A, B, C, D, E, F, G, H]"
       ]
      }
     ],
     "prompt_number": 9
    },
    {
     "cell_type": "code",
     "collapsed": false,
     "input": [
      "BayesianNetwork([A,B,C,D,E,F,G,H], [A>B,B>C,C>D,D>E,E>F,F>G,G>H,H>A]).display().order"
     ],
     "language": "python",
     "metadata": {},
     "outputs": [
      {
       "ename": "ValueError",
       "evalue": "Graph has at least one cycle.",
       "output_type": "pyerr",
       "traceback": [
        "\u001b[0;31m---------------------------------------------------------------------------\u001b[0m\n\u001b[0;31mValueError\u001b[0m                                Traceback (most recent call last)",
        "\u001b[0;32m<ipython-input-10-28711a621c02>\u001b[0m in \u001b[0;36m<module>\u001b[0;34m()\u001b[0m\n\u001b[0;32m----> 1\u001b[0;31m \u001b[0mBayesianNetwork\u001b[0m\u001b[0;34m(\u001b[0m\u001b[0;34m[\u001b[0m\u001b[0mA\u001b[0m\u001b[0;34m,\u001b[0m\u001b[0mB\u001b[0m\u001b[0;34m,\u001b[0m\u001b[0mC\u001b[0m\u001b[0;34m,\u001b[0m\u001b[0mD\u001b[0m\u001b[0;34m,\u001b[0m\u001b[0mE\u001b[0m\u001b[0;34m,\u001b[0m\u001b[0mF\u001b[0m\u001b[0;34m,\u001b[0m\u001b[0mG\u001b[0m\u001b[0;34m,\u001b[0m\u001b[0mH\u001b[0m\u001b[0;34m]\u001b[0m\u001b[0;34m,\u001b[0m \u001b[0;34m[\u001b[0m\u001b[0mA\u001b[0m\u001b[0;34m>\u001b[0m\u001b[0mB\u001b[0m\u001b[0;34m,\u001b[0m\u001b[0mB\u001b[0m\u001b[0;34m>\u001b[0m\u001b[0mC\u001b[0m\u001b[0;34m,\u001b[0m\u001b[0mC\u001b[0m\u001b[0;34m>\u001b[0m\u001b[0mD\u001b[0m\u001b[0;34m,\u001b[0m\u001b[0mD\u001b[0m\u001b[0;34m>\u001b[0m\u001b[0mE\u001b[0m\u001b[0;34m,\u001b[0m\u001b[0mE\u001b[0m\u001b[0;34m>\u001b[0m\u001b[0mF\u001b[0m\u001b[0;34m,\u001b[0m\u001b[0mF\u001b[0m\u001b[0;34m>\u001b[0m\u001b[0mG\u001b[0m\u001b[0;34m,\u001b[0m\u001b[0mG\u001b[0m\u001b[0;34m>\u001b[0m\u001b[0mH\u001b[0m\u001b[0;34m,\u001b[0m\u001b[0mH\u001b[0m\u001b[0;34m>\u001b[0m\u001b[0mA\u001b[0m\u001b[0;34m]\u001b[0m\u001b[0;34m)\u001b[0m\u001b[0;34m.\u001b[0m\u001b[0mdisplay\u001b[0m\u001b[0;34m(\u001b[0m\u001b[0;34m)\u001b[0m\u001b[0;34m.\u001b[0m\u001b[0morder\u001b[0m\u001b[0;34m\u001b[0m\u001b[0m\n\u001b[0m",
        "\u001b[0;32m/home/vnguyen/self/projects/darwiche-learn/discrete_probability.py\u001b[0m in \u001b[0;36m__init__\u001b[0;34m(self, variables, edges)\u001b[0m\n\u001b[1;32m    337\u001b[0m                 \u001b[0;31m#self.check_for_cycles()\u001b[0m\u001b[0;34m\u001b[0m\u001b[0;34m\u001b[0m\u001b[0m\n\u001b[1;32m    338\u001b[0m                 \u001b[0mself\u001b[0m\u001b[0;34m.\u001b[0m\u001b[0mgather_families\u001b[0m\u001b[0;34m(\u001b[0m\u001b[0;34m)\u001b[0m\u001b[0;34m\u001b[0m\u001b[0m\n\u001b[0;32m--> 339\u001b[0;31m                 \u001b[0mself\u001b[0m\u001b[0;34m.\u001b[0m\u001b[0morder\u001b[0m \u001b[0;34m=\u001b[0m \u001b[0mdag_topological_sort\u001b[0m\u001b[0;34m(\u001b[0m\u001b[0mvariables\u001b[0m\u001b[0;34m,\u001b[0m \u001b[0mself\u001b[0m\u001b[0;34m.\u001b[0m\u001b[0medges\u001b[0m\u001b[0;34m)\u001b[0m\u001b[0;34m\u001b[0m\u001b[0m\n\u001b[0m\u001b[1;32m    340\u001b[0m         \u001b[0;32mdef\u001b[0m \u001b[0mgather_families\u001b[0m\u001b[0;34m(\u001b[0m\u001b[0mself\u001b[0m\u001b[0;34m)\u001b[0m\u001b[0;34m:\u001b[0m\u001b[0;34m\u001b[0m\u001b[0m\n\u001b[1;32m    341\u001b[0m                 \u001b[0mself\u001b[0m\u001b[0;34m.\u001b[0m\u001b[0mroot_variables\u001b[0m \u001b[0;34m=\u001b[0m \u001b[0mset\u001b[0m\u001b[0;34m(\u001b[0m\u001b[0;34m)\u001b[0m\u001b[0;34m\u001b[0m\u001b[0m\n",
        "\u001b[0;32m/home/vnguyen/self/projects/darwiche-learn/discrete_probability.py\u001b[0m in \u001b[0;36mdag_topological_sort\u001b[0;34m(variables, edges)\u001b[0m\n\u001b[1;32m    324\u001b[0m                                 \u001b[0mpending\u001b[0m\u001b[0;34m.\u001b[0m\u001b[0mappend\u001b[0m\u001b[0;34m(\u001b[0m\u001b[0medge\u001b[0m\u001b[0;34m.\u001b[0m\u001b[0mto_var\u001b[0m\u001b[0;34m)\u001b[0m\u001b[0;34m\u001b[0m\u001b[0m\n\u001b[1;32m    325\u001b[0m         \u001b[0;32mif\u001b[0m \u001b[0mlen\u001b[0m\u001b[0;34m(\u001b[0m\u001b[0medges\u001b[0m\u001b[0;34m)\u001b[0m \u001b[0;34m>\u001b[0m \u001b[0;36m0\u001b[0m\u001b[0;34m:\u001b[0m\u001b[0;34m\u001b[0m\u001b[0m\n\u001b[0;32m--> 326\u001b[0;31m                 \u001b[0;32mraise\u001b[0m \u001b[0mValueError\u001b[0m\u001b[0;34m(\u001b[0m\u001b[0;34m'Graph has at least one cycle.'\u001b[0m\u001b[0;34m)\u001b[0m\u001b[0;34m\u001b[0m\u001b[0m\n\u001b[0m\u001b[1;32m    327\u001b[0m         \u001b[0;32mreturn\u001b[0m \u001b[0morder\u001b[0m\u001b[0;34m\u001b[0m\u001b[0m\n\u001b[1;32m    328\u001b[0m \u001b[0;34m\u001b[0m\u001b[0m\n",
        "\u001b[0;31mValueError\u001b[0m: Graph has at least one cycle."
       ]
      }
     ],
     "prompt_number": 10
    },
    {
     "cell_type": "code",
     "collapsed": false,
     "input": [
      "BayesianNetwork([A,B,C,D,E,F,G,H], [A>C,B>C,A>B,C>D,E>C,A>E,E>H,E>G,E>F,F>H]).display().order"
     ],
     "language": "python",
     "metadata": {},
     "outputs": [
      {
       "html": [
        "<div id=\"probgraphdisplay16164\"></div>"
       ],
       "output_type": "display_data",
       "text": [
        "<IPython.core.display.HTML at 0x2b77110>"
       ]
      },
      {
       "javascript": [
        "$(\"head\").append($(\"<link/>\").attr({\n",
        "  rel:  \"stylesheet\",\n",
        "  type: \"text/css\",\n",
        "  href: \"/files/graph_display.css\"\n",
        "}));\n",
        "$.getScript(\"http://d3js.org/d3.v3.min.js\", function () {\n",
        "var cellDivId=\"probgraphdisplay16164\";var links=[{source:\"E\",target:\"F\"},{source:\"B\",target:\"C\"},{source:\"A\",target:\"E\"},{source:\"E\",target:\"G\"},{source:\"F\",target:\"H\"},{source:\"C\",target:\"D\"},{source:\"A\",target:\"C\"},{source:\"A\",target:\"B\"},{source:\"E\",target:\"C\"},{source:\"E\",target:\"H\"},];var w=640,h=480;var nodes = {};\n",
        "\n",
        "// Compute the distinct nodes from the links.\n",
        "links.forEach(function(link) {\n",
        "  link.source = nodes[link.source] || (nodes[link.source] = {name: link.source});\n",
        "  link.target = nodes[link.target] || (nodes[link.target] = {name: link.target});\n",
        "});\n",
        "\n",
        "var force = d3.layout.force()\n",
        "    .nodes(d3.values(nodes))\n",
        "    .links(links)\n",
        "    .size([w, h])\n",
        "    .linkDistance(60)\n",
        "    .charge(-300)\n",
        "    .on(\"tick\", tick)\n",
        "    .start();\n",
        "\n",
        "var svg = d3.select(\"#\"+cellDivId).append(\"svg:svg\")\n",
        "    .attr(\"width\", w)\n",
        "    .attr(\"height\", h);\n",
        "\n",
        "// Per-type markers, as they don't inherit styles.\n",
        "svg.append(\"svg:defs\").selectAll(\"marker\")\n",
        "    .data([\"arrow\"])\n",
        "  .enter().append(\"svg:marker\")\n",
        "    .attr(\"id\", String)\n",
        "    .attr(\"viewBox\", \"0 -5 10 10\")\n",
        "    .attr(\"refX\", 18)\n",
        "    .attr(\"refY\", -1.5)\n",
        "    .attr(\"markerWidth\", 6)\n",
        "    .attr(\"markerHeight\", 6)\n",
        "    .attr(\"orient\", \"auto\")\n",
        "  .append(\"svg:path\")\n",
        "    .attr(\"d\", \"M0,-5L10,0L0,5\");\n",
        "\n",
        "var path = svg.append(\"svg:g\").selectAll(\"path\")\n",
        "    .data(force.links())\n",
        "  .enter().append(\"svg:path\")\n",
        "    .attr(\"class\", function(d) { return \"link\"; })\n",
        "    .attr(\"marker-end\", function(d) { return \"url(#arrow)\"; });\n",
        "\n",
        "var circle = svg.append(\"svg:g\").selectAll(\"circle\")\n",
        "    .data(force.nodes())\n",
        "  .enter().append(\"svg:circle\")\n",
        "    .attr(\"r\", 8)\n",
        "    .call(force.drag);\n",
        "\n",
        "var text = svg.append(\"svg:g\").selectAll(\"g\")\n",
        "    .data(force.nodes())\n",
        "  .enter().append(\"svg:g\");\n",
        "\n",
        "// A copy of the text with a thick white stroke for legibility.\n",
        "text.append(\"svg:text\")\n",
        "    .attr(\"x\", 10)\n",
        "    .attr(\"y\", \".31em\")\n",
        "    .attr(\"class\", \"shadow\")\n",
        "    .text(function(d) { return d.name; });\n",
        "\n",
        "text.append(\"svg:text\")\n",
        "    .attr(\"x\", 10)\n",
        "    .attr(\"y\", \".31em\")\n",
        "    .text(function(d) { return d.name; });\n",
        "\n",
        "// Use elliptical arc path segments to doubly-encode directionality.\n",
        "function tick() {\n",
        "  path.attr(\"d\", function(d) {\n",
        "    var dx = d.target.x - d.source.x,\n",
        "        dy = d.target.y - d.source.y,\n",
        "        dr = Math.sqrt(dx * dx + dy * dy)*2;\n",
        "    return \"M\" + d.source.x + \",\" + d.source.y + \"A\" + dr + \",\" + dr + \" 0 0,1 \" + d.target.x + \",\" + d.target.y;\n",
        "  });\n",
        "\n",
        "  circle.attr(\"transform\", function(d) {\n",
        "    return \"translate(\" + d.x + \",\" + d.y + \")\";\n",
        "  });\n",
        "\n",
        "  text.attr(\"transform\", function(d) {\n",
        "    return \"translate(\" + d.x + \",\" + d.y + \")\";\n",
        "  });\n",
        "}\n",
        "});\n"
       ],
       "output_type": "display_data",
       "text": [
        "<IPython.core.display.Javascript at 0x2b77110>"
       ]
      },
      {
       "output_type": "pyout",
       "prompt_number": 4,
       "text": [
        "[A, B, E, C, D, G, F, H]"
       ]
      }
     ],
     "prompt_number": 4
    },
    {
     "cell_type": "code",
     "collapsed": false,
     "input": [
      "BayesianNetwork([A,B,C,D,E,F,G,H], [A>C,B>C,A>B,G>D,E>C,A>E,E>H,H>G,E>F,F>H]).display().order"
     ],
     "language": "python",
     "metadata": {},
     "outputs": [
      {
       "html": [
        "<div id=\"probgraphdisplay26523\"></div>"
       ],
       "output_type": "display_data",
       "text": [
        "<IPython.core.display.HTML at 0x2b83f10>"
       ]
      },
      {
       "javascript": [
        "$(\"head\").append($(\"<link/>\").attr({\n",
        "  rel:  \"stylesheet\",\n",
        "  type: \"text/css\",\n",
        "  href: \"/files/graph_display.css\"\n",
        "}));\n",
        "$.getScript(\"http://d3js.org/d3.v3.min.js\", function () {\n",
        "var cellDivId=\"probgraphdisplay26523\";var links=[{source:\"E\",target:\"F\"},{source:\"B\",target:\"C\"},{source:\"A\",target:\"E\"},{source:\"F\",target:\"H\"},{source:\"H\",target:\"G\"},{source:\"A\",target:\"C\"},{source:\"A\",target:\"B\"},{source:\"E\",target:\"C\"},{source:\"G\",target:\"D\"},{source:\"E\",target:\"H\"},];var w=640,h=480;var nodes = {};\n",
        "\n",
        "// Compute the distinct nodes from the links.\n",
        "links.forEach(function(link) {\n",
        "  link.source = nodes[link.source] || (nodes[link.source] = {name: link.source});\n",
        "  link.target = nodes[link.target] || (nodes[link.target] = {name: link.target});\n",
        "});\n",
        "\n",
        "var force = d3.layout.force()\n",
        "    .nodes(d3.values(nodes))\n",
        "    .links(links)\n",
        "    .size([w, h])\n",
        "    .linkDistance(60)\n",
        "    .charge(-300)\n",
        "    .on(\"tick\", tick)\n",
        "    .start();\n",
        "\n",
        "var svg = d3.select(\"#\"+cellDivId).append(\"svg:svg\")\n",
        "    .attr(\"width\", w)\n",
        "    .attr(\"height\", h);\n",
        "\n",
        "// Per-type markers, as they don't inherit styles.\n",
        "svg.append(\"svg:defs\").selectAll(\"marker\")\n",
        "    .data([\"arrow\"])\n",
        "  .enter().append(\"svg:marker\")\n",
        "    .attr(\"id\", String)\n",
        "    .attr(\"viewBox\", \"0 -5 10 10\")\n",
        "    .attr(\"refX\", 18)\n",
        "    .attr(\"refY\", -1.5)\n",
        "    .attr(\"markerWidth\", 6)\n",
        "    .attr(\"markerHeight\", 6)\n",
        "    .attr(\"orient\", \"auto\")\n",
        "  .append(\"svg:path\")\n",
        "    .attr(\"d\", \"M0,-5L10,0L0,5\");\n",
        "\n",
        "var path = svg.append(\"svg:g\").selectAll(\"path\")\n",
        "    .data(force.links())\n",
        "  .enter().append(\"svg:path\")\n",
        "    .attr(\"class\", function(d) { return \"link\"; })\n",
        "    .attr(\"marker-end\", function(d) { return \"url(#arrow)\"; });\n",
        "\n",
        "var circle = svg.append(\"svg:g\").selectAll(\"circle\")\n",
        "    .data(force.nodes())\n",
        "  .enter().append(\"svg:circle\")\n",
        "    .attr(\"r\", 8)\n",
        "    .call(force.drag);\n",
        "\n",
        "var text = svg.append(\"svg:g\").selectAll(\"g\")\n",
        "    .data(force.nodes())\n",
        "  .enter().append(\"svg:g\");\n",
        "\n",
        "// A copy of the text with a thick white stroke for legibility.\n",
        "text.append(\"svg:text\")\n",
        "    .attr(\"x\", 10)\n",
        "    .attr(\"y\", \".31em\")\n",
        "    .attr(\"class\", \"shadow\")\n",
        "    .text(function(d) { return d.name; });\n",
        "\n",
        "text.append(\"svg:text\")\n",
        "    .attr(\"x\", 10)\n",
        "    .attr(\"y\", \".31em\")\n",
        "    .text(function(d) { return d.name; });\n",
        "\n",
        "// Use elliptical arc path segments to doubly-encode directionality.\n",
        "function tick() {\n",
        "  path.attr(\"d\", function(d) {\n",
        "    var dx = d.target.x - d.source.x,\n",
        "        dy = d.target.y - d.source.y,\n",
        "        dr = Math.sqrt(dx * dx + dy * dy)*2;\n",
        "    return \"M\" + d.source.x + \",\" + d.source.y + \"A\" + dr + \",\" + dr + \" 0 0,1 \" + d.target.x + \",\" + d.target.y;\n",
        "  });\n",
        "\n",
        "  circle.attr(\"transform\", function(d) {\n",
        "    return \"translate(\" + d.x + \",\" + d.y + \")\";\n",
        "  });\n",
        "\n",
        "  text.attr(\"transform\", function(d) {\n",
        "    return \"translate(\" + d.x + \",\" + d.y + \")\";\n",
        "  });\n",
        "}\n",
        "});\n"
       ],
       "output_type": "display_data",
       "text": [
        "<IPython.core.display.Javascript at 0x2b83f10>"
       ]
      },
      {
       "output_type": "pyout",
       "prompt_number": 7,
       "text": [
        "[A, B, E, C, F, H, G, D]"
       ]
      }
     ],
     "prompt_number": 7
    },
    {
     "cell_type": "code",
     "collapsed": false,
     "input": [
      "BayesianNetwork([A,B,C,D,E,F,G,H], [A>C,B>C,A>B,G>D,E>C,A>E,E>H,H>G,E>F,F>H,D>A]).display().order"
     ],
     "language": "python",
     "metadata": {},
     "outputs": [
      {
       "ename": "ValueError",
       "evalue": "Graph has at least one cycle.",
       "output_type": "pyerr",
       "traceback": [
        "\u001b[0;31m---------------------------------------------------------------------------\u001b[0m\n\u001b[0;31mValueError\u001b[0m                                Traceback (most recent call last)",
        "\u001b[0;32m<ipython-input-6-0e5f7abebb2c>\u001b[0m in \u001b[0;36m<module>\u001b[0;34m()\u001b[0m\n\u001b[0;32m----> 1\u001b[0;31m \u001b[0mBayesianNetwork\u001b[0m\u001b[0;34m(\u001b[0m\u001b[0;34m[\u001b[0m\u001b[0mA\u001b[0m\u001b[0;34m,\u001b[0m\u001b[0mB\u001b[0m\u001b[0;34m,\u001b[0m\u001b[0mC\u001b[0m\u001b[0;34m,\u001b[0m\u001b[0mD\u001b[0m\u001b[0;34m,\u001b[0m\u001b[0mE\u001b[0m\u001b[0;34m,\u001b[0m\u001b[0mF\u001b[0m\u001b[0;34m,\u001b[0m\u001b[0mG\u001b[0m\u001b[0;34m,\u001b[0m\u001b[0mH\u001b[0m\u001b[0;34m]\u001b[0m\u001b[0;34m,\u001b[0m \u001b[0;34m[\u001b[0m\u001b[0mA\u001b[0m\u001b[0;34m>\u001b[0m\u001b[0mC\u001b[0m\u001b[0;34m,\u001b[0m\u001b[0mB\u001b[0m\u001b[0;34m>\u001b[0m\u001b[0mC\u001b[0m\u001b[0;34m,\u001b[0m\u001b[0mA\u001b[0m\u001b[0;34m>\u001b[0m\u001b[0mB\u001b[0m\u001b[0;34m,\u001b[0m\u001b[0mG\u001b[0m\u001b[0;34m>\u001b[0m\u001b[0mD\u001b[0m\u001b[0;34m,\u001b[0m\u001b[0mE\u001b[0m\u001b[0;34m>\u001b[0m\u001b[0mC\u001b[0m\u001b[0;34m,\u001b[0m\u001b[0mA\u001b[0m\u001b[0;34m>\u001b[0m\u001b[0mE\u001b[0m\u001b[0;34m,\u001b[0m\u001b[0mE\u001b[0m\u001b[0;34m>\u001b[0m\u001b[0mH\u001b[0m\u001b[0;34m,\u001b[0m\u001b[0mH\u001b[0m\u001b[0;34m>\u001b[0m\u001b[0mG\u001b[0m\u001b[0;34m,\u001b[0m\u001b[0mE\u001b[0m\u001b[0;34m>\u001b[0m\u001b[0mF\u001b[0m\u001b[0;34m,\u001b[0m\u001b[0mF\u001b[0m\u001b[0;34m>\u001b[0m\u001b[0mH\u001b[0m\u001b[0;34m,\u001b[0m\u001b[0mD\u001b[0m\u001b[0;34m>\u001b[0m\u001b[0mA\u001b[0m\u001b[0;34m]\u001b[0m\u001b[0;34m)\u001b[0m\u001b[0;34m.\u001b[0m\u001b[0mdisplay\u001b[0m\u001b[0;34m(\u001b[0m\u001b[0;34m)\u001b[0m\u001b[0;34m.\u001b[0m\u001b[0morder\u001b[0m\u001b[0;34m\u001b[0m\u001b[0m\n\u001b[0m",
        "\u001b[0;32m/home/vnguyen/self/projects/darwiche-learn/discrete_probability.py\u001b[0m in \u001b[0;36m__init__\u001b[0;34m(self, variables, edges)\u001b[0m\n\u001b[1;32m    337\u001b[0m                 \u001b[0;31m#self.check_for_cycles()\u001b[0m\u001b[0;34m\u001b[0m\u001b[0;34m\u001b[0m\u001b[0m\n\u001b[1;32m    338\u001b[0m                 \u001b[0mself\u001b[0m\u001b[0;34m.\u001b[0m\u001b[0mgather_families\u001b[0m\u001b[0;34m(\u001b[0m\u001b[0;34m)\u001b[0m\u001b[0;34m\u001b[0m\u001b[0m\n\u001b[0;32m--> 339\u001b[0;31m                 \u001b[0mself\u001b[0m\u001b[0;34m.\u001b[0m\u001b[0morder\u001b[0m \u001b[0;34m=\u001b[0m \u001b[0mdag_topological_sort\u001b[0m\u001b[0;34m(\u001b[0m\u001b[0mvariables\u001b[0m\u001b[0;34m,\u001b[0m \u001b[0mself\u001b[0m\u001b[0;34m.\u001b[0m\u001b[0medges\u001b[0m\u001b[0;34m)\u001b[0m\u001b[0;34m\u001b[0m\u001b[0m\n\u001b[0m\u001b[1;32m    340\u001b[0m         \u001b[0;32mdef\u001b[0m \u001b[0mgather_families\u001b[0m\u001b[0;34m(\u001b[0m\u001b[0mself\u001b[0m\u001b[0;34m)\u001b[0m\u001b[0;34m:\u001b[0m\u001b[0;34m\u001b[0m\u001b[0m\n\u001b[1;32m    341\u001b[0m                 \u001b[0mself\u001b[0m\u001b[0;34m.\u001b[0m\u001b[0mroot_variables\u001b[0m \u001b[0;34m=\u001b[0m \u001b[0mset\u001b[0m\u001b[0;34m(\u001b[0m\u001b[0;34m)\u001b[0m\u001b[0;34m\u001b[0m\u001b[0m\n",
        "\u001b[0;32m/home/vnguyen/self/projects/darwiche-learn/discrete_probability.py\u001b[0m in \u001b[0;36mdag_topological_sort\u001b[0;34m(variables, edges)\u001b[0m\n\u001b[1;32m    324\u001b[0m                                 \u001b[0mpending\u001b[0m\u001b[0;34m.\u001b[0m\u001b[0mappend\u001b[0m\u001b[0;34m(\u001b[0m\u001b[0medge\u001b[0m\u001b[0;34m.\u001b[0m\u001b[0mto_var\u001b[0m\u001b[0;34m)\u001b[0m\u001b[0;34m\u001b[0m\u001b[0m\n\u001b[1;32m    325\u001b[0m         \u001b[0;32mif\u001b[0m \u001b[0mlen\u001b[0m\u001b[0;34m(\u001b[0m\u001b[0medges\u001b[0m\u001b[0;34m)\u001b[0m \u001b[0;34m>\u001b[0m \u001b[0;36m0\u001b[0m\u001b[0;34m:\u001b[0m\u001b[0;34m\u001b[0m\u001b[0m\n\u001b[0;32m--> 326\u001b[0;31m                 \u001b[0;32mraise\u001b[0m \u001b[0mValueError\u001b[0m\u001b[0;34m(\u001b[0m\u001b[0;34m'Graph has at least one cycle.'\u001b[0m\u001b[0;34m)\u001b[0m\u001b[0;34m\u001b[0m\u001b[0m\n\u001b[0m\u001b[1;32m    327\u001b[0m         \u001b[0;32mreturn\u001b[0m \u001b[0morder\u001b[0m\u001b[0;34m\u001b[0m\u001b[0m\n\u001b[1;32m    328\u001b[0m \u001b[0;34m\u001b[0m\u001b[0m\n",
        "\u001b[0;31mValueError\u001b[0m: Graph has at least one cycle."
       ]
      }
     ],
     "prompt_number": 6
    },
    {
     "cell_type": "code",
     "collapsed": false,
     "input": [],
     "language": "python",
     "metadata": {},
     "outputs": []
    }
   ],
   "metadata": {}
  }
 ]
}